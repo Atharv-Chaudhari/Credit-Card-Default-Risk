{
  "nbformat": 4,
  "nbformat_minor": 0,
  "metadata": {
    "colab": {
      "name": "Credit_Card_Default_Risk_Combine_Both.ipynb",
      "provenance": [],
      "collapsed_sections": []
    },
    "kernelspec": {
      "display_name": "Python 3",
      "name": "python3"
    },
    "language_info": {
      "name": "python"
    }
  },
  "cells": [
    {
      "cell_type": "code",
      "metadata": {
        "id": "t9NnUpg7RJcJ",
        "colab": {
          "base_uri": "https://localhost:8080/"
        },
        "outputId": "bd521f24-f86d-4d66-c2d1-512e43864b8e"
      },
      "source": [
        "# # !pip install mljar-supervised\n",
        "# !pip install boruta\n",
        "# !pip install catboost\n",
        "# !wget https://he-s3.s3.ap-southeast-1.amazonaws.com/media/hackathon/amexpert-code-lab/credit-card-default-risk-5-95cbc85f/892bcbe6493411ec.zip\n",
        "# !unzip /content/892bcbe6493411ec.zip"
      ],
      "execution_count": null,
      "outputs": [
        {
          "output_type": "stream",
          "name": "stdout",
          "text": [
            "Collecting boruta\n",
            "  Downloading Boruta-0.3-py3-none-any.whl (56 kB)\n",
            "\u001b[?25l\r\u001b[K     |█████▉                          | 10 kB 23.3 MB/s eta 0:00:01\r\u001b[K     |███████████▋                    | 20 kB 27.7 MB/s eta 0:00:01\r\u001b[K     |█████████████████▍              | 30 kB 13.8 MB/s eta 0:00:01\r\u001b[K     |███████████████████████▏        | 40 kB 10.1 MB/s eta 0:00:01\r\u001b[K     |█████████████████████████████   | 51 kB 5.2 MB/s eta 0:00:01\r\u001b[K     |████████████████████████████████| 56 kB 2.8 MB/s \n",
            "\u001b[?25hRequirement already satisfied: scipy>=0.17.0 in /usr/local/lib/python3.7/dist-packages (from boruta) (1.4.1)\n",
            "Requirement already satisfied: numpy>=1.10.4 in /usr/local/lib/python3.7/dist-packages (from boruta) (1.19.5)\n",
            "Requirement already satisfied: scikit-learn>=0.17.1 in /usr/local/lib/python3.7/dist-packages (from boruta) (1.0.1)\n",
            "Requirement already satisfied: threadpoolctl>=2.0.0 in /usr/local/lib/python3.7/dist-packages (from scikit-learn>=0.17.1->boruta) (3.0.0)\n",
            "Requirement already satisfied: joblib>=0.11 in /usr/local/lib/python3.7/dist-packages (from scikit-learn>=0.17.1->boruta) (1.1.0)\n",
            "Installing collected packages: boruta\n",
            "Successfully installed boruta-0.3\n",
            "Collecting catboost\n",
            "  Downloading catboost-1.0.3-cp37-none-manylinux1_x86_64.whl (76.3 MB)\n",
            "\u001b[K     |████████████████████████████████| 76.3 MB 61 kB/s \n",
            "\u001b[?25hRequirement already satisfied: numpy>=1.16.0 in /usr/local/lib/python3.7/dist-packages (from catboost) (1.19.5)\n",
            "Requirement already satisfied: pandas>=0.24.0 in /usr/local/lib/python3.7/dist-packages (from catboost) (1.1.5)\n",
            "Requirement already satisfied: plotly in /usr/local/lib/python3.7/dist-packages (from catboost) (4.4.1)\n",
            "Requirement already satisfied: graphviz in /usr/local/lib/python3.7/dist-packages (from catboost) (0.10.1)\n",
            "Requirement already satisfied: scipy in /usr/local/lib/python3.7/dist-packages (from catboost) (1.4.1)\n",
            "Requirement already satisfied: six in /usr/local/lib/python3.7/dist-packages (from catboost) (1.15.0)\n",
            "Requirement already satisfied: matplotlib in /usr/local/lib/python3.7/dist-packages (from catboost) (3.2.2)\n",
            "Requirement already satisfied: pytz>=2017.2 in /usr/local/lib/python3.7/dist-packages (from pandas>=0.24.0->catboost) (2018.9)\n",
            "Requirement already satisfied: python-dateutil>=2.7.3 in /usr/local/lib/python3.7/dist-packages (from pandas>=0.24.0->catboost) (2.8.2)\n",
            "Requirement already satisfied: cycler>=0.10 in /usr/local/lib/python3.7/dist-packages (from matplotlib->catboost) (0.11.0)\n",
            "Requirement already satisfied: kiwisolver>=1.0.1 in /usr/local/lib/python3.7/dist-packages (from matplotlib->catboost) (1.3.2)\n",
            "Requirement already satisfied: pyparsing!=2.0.4,!=2.1.2,!=2.1.6,>=2.0.1 in /usr/local/lib/python3.7/dist-packages (from matplotlib->catboost) (3.0.6)\n",
            "Requirement already satisfied: retrying>=1.3.3 in /usr/local/lib/python3.7/dist-packages (from plotly->catboost) (1.3.3)\n",
            "Installing collected packages: catboost\n",
            "Successfully installed catboost-1.0.3\n",
            "--2021-12-05 03:25:26--  https://he-s3.s3.ap-southeast-1.amazonaws.com/media/hackathon/amexpert-code-lab/credit-card-default-risk-5-95cbc85f/892bcbe6493411ec.zip\n",
            "Resolving he-s3.s3.ap-southeast-1.amazonaws.com (he-s3.s3.ap-southeast-1.amazonaws.com)... 52.219.36.59\n",
            "Connecting to he-s3.s3.ap-southeast-1.amazonaws.com (he-s3.s3.ap-southeast-1.amazonaws.com)|52.219.36.59|:443... connected.\n",
            "HTTP request sent, awaiting response... 200 OK\n",
            "Length: 2044255 (1.9M) [application/zip]\n",
            "Saving to: ‘892bcbe6493411ec.zip’\n",
            "\n",
            "892bcbe6493411ec.zi 100%[===================>]   1.95M  1.58MB/s    in 1.2s    \n",
            "\n",
            "2021-12-05 03:25:28 (1.58 MB/s) - ‘892bcbe6493411ec.zip’ saved [2044255/2044255]\n",
            "\n",
            "Archive:  /content/892bcbe6493411ec.zip\n",
            "   creating: dataset/\n",
            "  inflating: dataset/train.csv       \n",
            "  inflating: dataset/test.csv        \n",
            "  inflating: dataset/sample_submission.csv  \n"
          ]
        }
      ]
    },
    {
      "cell_type": "code",
      "metadata": {
        "id": "ijttoAXXPiwu"
      },
      "source": [
        "import pandas as pd\n",
        "import numpy as np\n",
        "import seaborn as sns"
      ],
      "execution_count": null,
      "outputs": []
    },
    {
      "cell_type": "code",
      "metadata": {
        "colab": {
          "base_uri": "https://localhost:8080/",
          "height": 261
        },
        "id": "gNdNFFlERJtT",
        "outputId": "bbb139a2-d7fb-4b47-90a1-a13bb2bf8f6a"
      },
      "source": [
        "train=pd.read_csv(\"/content/dataset/train.csv\")\n",
        "train.head()"
      ],
      "execution_count": null,
      "outputs": [
        {
          "output_type": "execute_result",
          "data": {
            "text/html": [
              "<div>\n",
              "<style scoped>\n",
              "    .dataframe tbody tr th:only-of-type {\n",
              "        vertical-align: middle;\n",
              "    }\n",
              "\n",
              "    .dataframe tbody tr th {\n",
              "        vertical-align: top;\n",
              "    }\n",
              "\n",
              "    .dataframe thead th {\n",
              "        text-align: right;\n",
              "    }\n",
              "</style>\n",
              "<table border=\"1\" class=\"dataframe\">\n",
              "  <thead>\n",
              "    <tr style=\"text-align: right;\">\n",
              "      <th></th>\n",
              "      <th>customer_id</th>\n",
              "      <th>name</th>\n",
              "      <th>age</th>\n",
              "      <th>gender</th>\n",
              "      <th>owns_car</th>\n",
              "      <th>owns_house</th>\n",
              "      <th>no_of_children</th>\n",
              "      <th>net_yearly_income</th>\n",
              "      <th>no_of_days_employed</th>\n",
              "      <th>occupation_type</th>\n",
              "      <th>total_family_members</th>\n",
              "      <th>migrant_worker</th>\n",
              "      <th>yearly_debt_payments</th>\n",
              "      <th>credit_limit</th>\n",
              "      <th>credit_limit_used(%)</th>\n",
              "      <th>credit_score</th>\n",
              "      <th>prev_defaults</th>\n",
              "      <th>default_in_last_6months</th>\n",
              "      <th>credit_card_default</th>\n",
              "    </tr>\n",
              "  </thead>\n",
              "  <tbody>\n",
              "    <tr>\n",
              "      <th>0</th>\n",
              "      <td>CST_115179</td>\n",
              "      <td>ita Bose</td>\n",
              "      <td>46</td>\n",
              "      <td>F</td>\n",
              "      <td>N</td>\n",
              "      <td>Y</td>\n",
              "      <td>0.0</td>\n",
              "      <td>107934.04</td>\n",
              "      <td>612.0</td>\n",
              "      <td>Unknown</td>\n",
              "      <td>1.0</td>\n",
              "      <td>1.0</td>\n",
              "      <td>33070.28</td>\n",
              "      <td>18690.93</td>\n",
              "      <td>73</td>\n",
              "      <td>544.0</td>\n",
              "      <td>2</td>\n",
              "      <td>1</td>\n",
              "      <td>1</td>\n",
              "    </tr>\n",
              "    <tr>\n",
              "      <th>1</th>\n",
              "      <td>CST_121920</td>\n",
              "      <td>Alper Jonathan</td>\n",
              "      <td>29</td>\n",
              "      <td>M</td>\n",
              "      <td>N</td>\n",
              "      <td>Y</td>\n",
              "      <td>0.0</td>\n",
              "      <td>109862.62</td>\n",
              "      <td>2771.0</td>\n",
              "      <td>Laborers</td>\n",
              "      <td>2.0</td>\n",
              "      <td>0.0</td>\n",
              "      <td>15329.53</td>\n",
              "      <td>37745.19</td>\n",
              "      <td>52</td>\n",
              "      <td>857.0</td>\n",
              "      <td>0</td>\n",
              "      <td>0</td>\n",
              "      <td>0</td>\n",
              "    </tr>\n",
              "    <tr>\n",
              "      <th>2</th>\n",
              "      <td>CST_109330</td>\n",
              "      <td>Umesh Desai</td>\n",
              "      <td>37</td>\n",
              "      <td>M</td>\n",
              "      <td>N</td>\n",
              "      <td>Y</td>\n",
              "      <td>0.0</td>\n",
              "      <td>230153.17</td>\n",
              "      <td>204.0</td>\n",
              "      <td>Laborers</td>\n",
              "      <td>2.0</td>\n",
              "      <td>0.0</td>\n",
              "      <td>48416.60</td>\n",
              "      <td>41598.36</td>\n",
              "      <td>43</td>\n",
              "      <td>650.0</td>\n",
              "      <td>0</td>\n",
              "      <td>0</td>\n",
              "      <td>0</td>\n",
              "    </tr>\n",
              "    <tr>\n",
              "      <th>3</th>\n",
              "      <td>CST_128288</td>\n",
              "      <td>Rie</td>\n",
              "      <td>39</td>\n",
              "      <td>F</td>\n",
              "      <td>N</td>\n",
              "      <td>Y</td>\n",
              "      <td>0.0</td>\n",
              "      <td>122325.82</td>\n",
              "      <td>11941.0</td>\n",
              "      <td>Core staff</td>\n",
              "      <td>2.0</td>\n",
              "      <td>0.0</td>\n",
              "      <td>22574.36</td>\n",
              "      <td>32627.76</td>\n",
              "      <td>20</td>\n",
              "      <td>754.0</td>\n",
              "      <td>0</td>\n",
              "      <td>0</td>\n",
              "      <td>0</td>\n",
              "    </tr>\n",
              "    <tr>\n",
              "      <th>4</th>\n",
              "      <td>CST_151355</td>\n",
              "      <td>McCool</td>\n",
              "      <td>46</td>\n",
              "      <td>M</td>\n",
              "      <td>Y</td>\n",
              "      <td>Y</td>\n",
              "      <td>0.0</td>\n",
              "      <td>387286.00</td>\n",
              "      <td>1459.0</td>\n",
              "      <td>Core staff</td>\n",
              "      <td>1.0</td>\n",
              "      <td>0.0</td>\n",
              "      <td>38282.95</td>\n",
              "      <td>52950.64</td>\n",
              "      <td>75</td>\n",
              "      <td>927.0</td>\n",
              "      <td>0</td>\n",
              "      <td>0</td>\n",
              "      <td>0</td>\n",
              "    </tr>\n",
              "  </tbody>\n",
              "</table>\n",
              "</div>"
            ],
            "text/plain": [
              "  customer_id            name  ...  default_in_last_6months credit_card_default\n",
              "0  CST_115179        ita Bose  ...                        1                   1\n",
              "1  CST_121920  Alper Jonathan  ...                        0                   0\n",
              "2  CST_109330     Umesh Desai  ...                        0                   0\n",
              "3  CST_128288             Rie  ...                        0                   0\n",
              "4  CST_151355          McCool  ...                        0                   0\n",
              "\n",
              "[5 rows x 19 columns]"
            ]
          },
          "metadata": {},
          "execution_count": 3
        }
      ]
    },
    {
      "cell_type": "code",
      "metadata": {
        "colab": {
          "base_uri": "https://localhost:8080/",
          "height": 244
        },
        "id": "sjGH2qvrXx23",
        "outputId": "56b01797-539e-479a-c0ce-dd269d4aeb0a"
      },
      "source": [
        "test=pd.read_csv(\"/content/dataset/test.csv\")\n",
        "test.head()"
      ],
      "execution_count": null,
      "outputs": [
        {
          "output_type": "execute_result",
          "data": {
            "text/html": [
              "<div>\n",
              "<style scoped>\n",
              "    .dataframe tbody tr th:only-of-type {\n",
              "        vertical-align: middle;\n",
              "    }\n",
              "\n",
              "    .dataframe tbody tr th {\n",
              "        vertical-align: top;\n",
              "    }\n",
              "\n",
              "    .dataframe thead th {\n",
              "        text-align: right;\n",
              "    }\n",
              "</style>\n",
              "<table border=\"1\" class=\"dataframe\">\n",
              "  <thead>\n",
              "    <tr style=\"text-align: right;\">\n",
              "      <th></th>\n",
              "      <th>customer_id</th>\n",
              "      <th>name</th>\n",
              "      <th>age</th>\n",
              "      <th>gender</th>\n",
              "      <th>owns_car</th>\n",
              "      <th>owns_house</th>\n",
              "      <th>no_of_children</th>\n",
              "      <th>net_yearly_income</th>\n",
              "      <th>no_of_days_employed</th>\n",
              "      <th>occupation_type</th>\n",
              "      <th>total_family_members</th>\n",
              "      <th>migrant_worker</th>\n",
              "      <th>yearly_debt_payments</th>\n",
              "      <th>credit_limit</th>\n",
              "      <th>credit_limit_used(%)</th>\n",
              "      <th>credit_score</th>\n",
              "      <th>prev_defaults</th>\n",
              "      <th>default_in_last_6months</th>\n",
              "    </tr>\n",
              "  </thead>\n",
              "  <tbody>\n",
              "    <tr>\n",
              "      <th>0</th>\n",
              "      <td>CST_142525</td>\n",
              "      <td>Siva</td>\n",
              "      <td>52</td>\n",
              "      <td>F</td>\n",
              "      <td>Y</td>\n",
              "      <td>N</td>\n",
              "      <td>0.0</td>\n",
              "      <td>232640.53</td>\n",
              "      <td>998.0</td>\n",
              "      <td>Unknown</td>\n",
              "      <td>2.0</td>\n",
              "      <td>0.0</td>\n",
              "      <td>14406.73</td>\n",
              "      <td>26524.40</td>\n",
              "      <td>4</td>\n",
              "      <td>779.0</td>\n",
              "      <td>0</td>\n",
              "      <td>0</td>\n",
              "    </tr>\n",
              "    <tr>\n",
              "      <th>1</th>\n",
              "      <td>CST_129215</td>\n",
              "      <td>Scott</td>\n",
              "      <td>48</td>\n",
              "      <td>F</td>\n",
              "      <td>N</td>\n",
              "      <td>N</td>\n",
              "      <td>1.0</td>\n",
              "      <td>284396.79</td>\n",
              "      <td>1338.0</td>\n",
              "      <td>Unknown</td>\n",
              "      <td>3.0</td>\n",
              "      <td>0.0</td>\n",
              "      <td>57479.99</td>\n",
              "      <td>68998.72</td>\n",
              "      <td>70</td>\n",
              "      <td>806.0</td>\n",
              "      <td>0</td>\n",
              "      <td>0</td>\n",
              "    </tr>\n",
              "    <tr>\n",
              "      <th>2</th>\n",
              "      <td>CST_138443</td>\n",
              "      <td>Victoria</td>\n",
              "      <td>50</td>\n",
              "      <td>F</td>\n",
              "      <td>N</td>\n",
              "      <td>N</td>\n",
              "      <td>1.0</td>\n",
              "      <td>149419.28</td>\n",
              "      <td>1210.0</td>\n",
              "      <td>Unknown</td>\n",
              "      <td>3.0</td>\n",
              "      <td>0.0</td>\n",
              "      <td>21611.01</td>\n",
              "      <td>25187.80</td>\n",
              "      <td>71</td>\n",
              "      <td>528.0</td>\n",
              "      <td>2</td>\n",
              "      <td>0</td>\n",
              "    </tr>\n",
              "    <tr>\n",
              "      <th>3</th>\n",
              "      <td>CST_123812</td>\n",
              "      <td>John McCrank</td>\n",
              "      <td>30</td>\n",
              "      <td>F</td>\n",
              "      <td>N</td>\n",
              "      <td>N</td>\n",
              "      <td>1.0</td>\n",
              "      <td>160437.54</td>\n",
              "      <td>503.0</td>\n",
              "      <td>Laborers</td>\n",
              "      <td>2.0</td>\n",
              "      <td>1.0</td>\n",
              "      <td>28990.76</td>\n",
              "      <td>29179.39</td>\n",
              "      <td>9</td>\n",
              "      <td>815.0</td>\n",
              "      <td>0</td>\n",
              "      <td>0</td>\n",
              "    </tr>\n",
              "    <tr>\n",
              "      <th>4</th>\n",
              "      <td>CST_144450</td>\n",
              "      <td>Martinne</td>\n",
              "      <td>52</td>\n",
              "      <td>M</td>\n",
              "      <td>N</td>\n",
              "      <td>Y</td>\n",
              "      <td>0.0</td>\n",
              "      <td>233480.37</td>\n",
              "      <td>157.0</td>\n",
              "      <td>Laborers</td>\n",
              "      <td>2.0</td>\n",
              "      <td>1.0</td>\n",
              "      <td>54213.72</td>\n",
              "      <td>82331.82</td>\n",
              "      <td>82</td>\n",
              "      <td>613.0</td>\n",
              "      <td>1</td>\n",
              "      <td>1</td>\n",
              "    </tr>\n",
              "  </tbody>\n",
              "</table>\n",
              "</div>"
            ],
            "text/plain": [
              "  customer_id          name  ...  prev_defaults default_in_last_6months\n",
              "0  CST_142525          Siva  ...              0                       0\n",
              "1  CST_129215         Scott  ...              0                       0\n",
              "2  CST_138443      Victoria  ...              2                       0\n",
              "3  CST_123812  John McCrank  ...              0                       0\n",
              "4  CST_144450      Martinne  ...              1                       1\n",
              "\n",
              "[5 rows x 18 columns]"
            ]
          },
          "metadata": {},
          "execution_count": 4
        }
      ]
    },
    {
      "cell_type": "code",
      "metadata": {
        "colab": {
          "base_uri": "https://localhost:8080/",
          "height": 206
        },
        "id": "U63v6wwQXx0M",
        "outputId": "6b174e44-d262-4948-85a5-97f10e91b995"
      },
      "source": [
        "sample=pd.read_csv(\"/content/dataset/sample_submission.csv\")\n",
        "sample.head()"
      ],
      "execution_count": null,
      "outputs": [
        {
          "output_type": "execute_result",
          "data": {
            "text/html": [
              "<div>\n",
              "<style scoped>\n",
              "    .dataframe tbody tr th:only-of-type {\n",
              "        vertical-align: middle;\n",
              "    }\n",
              "\n",
              "    .dataframe tbody tr th {\n",
              "        vertical-align: top;\n",
              "    }\n",
              "\n",
              "    .dataframe thead th {\n",
              "        text-align: right;\n",
              "    }\n",
              "</style>\n",
              "<table border=\"1\" class=\"dataframe\">\n",
              "  <thead>\n",
              "    <tr style=\"text-align: right;\">\n",
              "      <th></th>\n",
              "      <th>customer_id</th>\n",
              "      <th>credit_card_default</th>\n",
              "    </tr>\n",
              "  </thead>\n",
              "  <tbody>\n",
              "    <tr>\n",
              "      <th>0</th>\n",
              "      <td>CST_115179</td>\n",
              "      <td>1</td>\n",
              "    </tr>\n",
              "    <tr>\n",
              "      <th>1</th>\n",
              "      <td>CST_121920</td>\n",
              "      <td>0</td>\n",
              "    </tr>\n",
              "    <tr>\n",
              "      <th>2</th>\n",
              "      <td>CST_109330</td>\n",
              "      <td>0</td>\n",
              "    </tr>\n",
              "    <tr>\n",
              "      <th>3</th>\n",
              "      <td>CST_128288</td>\n",
              "      <td>0</td>\n",
              "    </tr>\n",
              "    <tr>\n",
              "      <th>4</th>\n",
              "      <td>CST_151355</td>\n",
              "      <td>0</td>\n",
              "    </tr>\n",
              "  </tbody>\n",
              "</table>\n",
              "</div>"
            ],
            "text/plain": [
              "  customer_id  credit_card_default\n",
              "0  CST_115179                    1\n",
              "1  CST_121920                    0\n",
              "2  CST_109330                    0\n",
              "3  CST_128288                    0\n",
              "4  CST_151355                    0"
            ]
          },
          "metadata": {},
          "execution_count": 5
        }
      ]
    },
    {
      "cell_type": "code",
      "metadata": {
        "colab": {
          "base_uri": "https://localhost:8080/"
        },
        "id": "uTqzCdJVZRih",
        "outputId": "fcff89d2-edea-4230-a221-5e747a0c9ba7"
      },
      "source": [
        "train.shape"
      ],
      "execution_count": null,
      "outputs": [
        {
          "output_type": "execute_result",
          "data": {
            "text/plain": [
              "(45528, 19)"
            ]
          },
          "metadata": {},
          "execution_count": 6
        }
      ]
    },
    {
      "cell_type": "code",
      "metadata": {
        "colab": {
          "base_uri": "https://localhost:8080/"
        },
        "id": "5xXXOrcGXxx8",
        "outputId": "265bd701-8ee6-4ff9-be55-33c707a408d6"
      },
      "source": [
        "train.info()"
      ],
      "execution_count": null,
      "outputs": [
        {
          "output_type": "stream",
          "name": "stdout",
          "text": [
            "<class 'pandas.core.frame.DataFrame'>\n",
            "RangeIndex: 45528 entries, 0 to 45527\n",
            "Data columns (total 19 columns):\n",
            " #   Column                   Non-Null Count  Dtype  \n",
            "---  ------                   --------------  -----  \n",
            " 0   customer_id              45528 non-null  object \n",
            " 1   name                     45528 non-null  object \n",
            " 2   age                      45528 non-null  int64  \n",
            " 3   gender                   45528 non-null  object \n",
            " 4   owns_car                 44981 non-null  object \n",
            " 5   owns_house               45528 non-null  object \n",
            " 6   no_of_children           44754 non-null  float64\n",
            " 7   net_yearly_income        45528 non-null  float64\n",
            " 8   no_of_days_employed      45065 non-null  float64\n",
            " 9   occupation_type          45528 non-null  object \n",
            " 10  total_family_members     45445 non-null  float64\n",
            " 11  migrant_worker           45441 non-null  float64\n",
            " 12  yearly_debt_payments     45433 non-null  float64\n",
            " 13  credit_limit             45528 non-null  float64\n",
            " 14  credit_limit_used(%)     45528 non-null  int64  \n",
            " 15  credit_score             45520 non-null  float64\n",
            " 16  prev_defaults            45528 non-null  int64  \n",
            " 17  default_in_last_6months  45528 non-null  int64  \n",
            " 18  credit_card_default      45528 non-null  int64  \n",
            "dtypes: float64(8), int64(5), object(6)\n",
            "memory usage: 6.6+ MB\n"
          ]
        }
      ]
    },
    {
      "cell_type": "code",
      "metadata": {
        "colab": {
          "base_uri": "https://localhost:8080/",
          "height": 320
        },
        "id": "CsoLsU56Xxvp",
        "outputId": "e0c1e1ff-c272-4518-d3e3-108789e7e57a"
      },
      "source": [
        "train.describe()"
      ],
      "execution_count": null,
      "outputs": [
        {
          "output_type": "execute_result",
          "data": {
            "text/html": [
              "<div>\n",
              "<style scoped>\n",
              "    .dataframe tbody tr th:only-of-type {\n",
              "        vertical-align: middle;\n",
              "    }\n",
              "\n",
              "    .dataframe tbody tr th {\n",
              "        vertical-align: top;\n",
              "    }\n",
              "\n",
              "    .dataframe thead th {\n",
              "        text-align: right;\n",
              "    }\n",
              "</style>\n",
              "<table border=\"1\" class=\"dataframe\">\n",
              "  <thead>\n",
              "    <tr style=\"text-align: right;\">\n",
              "      <th></th>\n",
              "      <th>age</th>\n",
              "      <th>no_of_children</th>\n",
              "      <th>net_yearly_income</th>\n",
              "      <th>no_of_days_employed</th>\n",
              "      <th>total_family_members</th>\n",
              "      <th>migrant_worker</th>\n",
              "      <th>yearly_debt_payments</th>\n",
              "      <th>credit_limit</th>\n",
              "      <th>credit_limit_used(%)</th>\n",
              "      <th>credit_score</th>\n",
              "      <th>prev_defaults</th>\n",
              "      <th>default_in_last_6months</th>\n",
              "      <th>credit_card_default</th>\n",
              "    </tr>\n",
              "  </thead>\n",
              "  <tbody>\n",
              "    <tr>\n",
              "      <th>count</th>\n",
              "      <td>45528.000000</td>\n",
              "      <td>44754.000000</td>\n",
              "      <td>4.552800e+04</td>\n",
              "      <td>45065.000000</td>\n",
              "      <td>45445.000000</td>\n",
              "      <td>45441.000000</td>\n",
              "      <td>45433.000000</td>\n",
              "      <td>4.552800e+04</td>\n",
              "      <td>45528.00000</td>\n",
              "      <td>45520.000000</td>\n",
              "      <td>45528.000000</td>\n",
              "      <td>45528.000000</td>\n",
              "      <td>45528.000000</td>\n",
              "    </tr>\n",
              "    <tr>\n",
              "      <th>mean</th>\n",
              "      <td>38.993411</td>\n",
              "      <td>0.420655</td>\n",
              "      <td>2.006556e+05</td>\n",
              "      <td>67609.289293</td>\n",
              "      <td>2.158081</td>\n",
              "      <td>0.179111</td>\n",
              "      <td>31796.965311</td>\n",
              "      <td>4.354842e+04</td>\n",
              "      <td>52.23502</td>\n",
              "      <td>782.791257</td>\n",
              "      <td>0.060710</td>\n",
              "      <td>0.050540</td>\n",
              "      <td>0.081203</td>\n",
              "    </tr>\n",
              "    <tr>\n",
              "      <th>std</th>\n",
              "      <td>9.543990</td>\n",
              "      <td>0.724097</td>\n",
              "      <td>6.690740e+05</td>\n",
              "      <td>139323.524434</td>\n",
              "      <td>0.911572</td>\n",
              "      <td>0.383450</td>\n",
              "      <td>17269.727234</td>\n",
              "      <td>1.487847e+05</td>\n",
              "      <td>29.37691</td>\n",
              "      <td>100.619746</td>\n",
              "      <td>0.264629</td>\n",
              "      <td>0.219059</td>\n",
              "      <td>0.273149</td>\n",
              "    </tr>\n",
              "    <tr>\n",
              "      <th>min</th>\n",
              "      <td>23.000000</td>\n",
              "      <td>0.000000</td>\n",
              "      <td>2.717061e+04</td>\n",
              "      <td>2.000000</td>\n",
              "      <td>1.000000</td>\n",
              "      <td>0.000000</td>\n",
              "      <td>2237.470000</td>\n",
              "      <td>4.003140e+03</td>\n",
              "      <td>0.00000</td>\n",
              "      <td>500.000000</td>\n",
              "      <td>0.000000</td>\n",
              "      <td>0.000000</td>\n",
              "      <td>0.000000</td>\n",
              "    </tr>\n",
              "    <tr>\n",
              "      <th>25%</th>\n",
              "      <td>31.000000</td>\n",
              "      <td>0.000000</td>\n",
              "      <td>1.263458e+05</td>\n",
              "      <td>936.000000</td>\n",
              "      <td>2.000000</td>\n",
              "      <td>0.000000</td>\n",
              "      <td>19231.140000</td>\n",
              "      <td>2.397381e+04</td>\n",
              "      <td>27.00000</td>\n",
              "      <td>704.000000</td>\n",
              "      <td>0.000000</td>\n",
              "      <td>0.000000</td>\n",
              "      <td>0.000000</td>\n",
              "    </tr>\n",
              "    <tr>\n",
              "      <th>50%</th>\n",
              "      <td>39.000000</td>\n",
              "      <td>0.000000</td>\n",
              "      <td>1.717149e+05</td>\n",
              "      <td>2224.000000</td>\n",
              "      <td>2.000000</td>\n",
              "      <td>0.000000</td>\n",
              "      <td>29081.650000</td>\n",
              "      <td>3.568804e+04</td>\n",
              "      <td>54.00000</td>\n",
              "      <td>786.000000</td>\n",
              "      <td>0.000000</td>\n",
              "      <td>0.000000</td>\n",
              "      <td>0.000000</td>\n",
              "    </tr>\n",
              "    <tr>\n",
              "      <th>75%</th>\n",
              "      <td>47.000000</td>\n",
              "      <td>1.000000</td>\n",
              "      <td>2.406038e+05</td>\n",
              "      <td>5817.000000</td>\n",
              "      <td>3.000000</td>\n",
              "      <td>0.000000</td>\n",
              "      <td>40561.150000</td>\n",
              "      <td>5.343576e+04</td>\n",
              "      <td>78.00000</td>\n",
              "      <td>867.000000</td>\n",
              "      <td>0.000000</td>\n",
              "      <td>0.000000</td>\n",
              "      <td>0.000000</td>\n",
              "    </tr>\n",
              "    <tr>\n",
              "      <th>max</th>\n",
              "      <td>55.000000</td>\n",
              "      <td>9.000000</td>\n",
              "      <td>1.407590e+08</td>\n",
              "      <td>365252.000000</td>\n",
              "      <td>10.000000</td>\n",
              "      <td>1.000000</td>\n",
              "      <td>328112.860000</td>\n",
              "      <td>3.112997e+07</td>\n",
              "      <td>99.00000</td>\n",
              "      <td>949.000000</td>\n",
              "      <td>2.000000</td>\n",
              "      <td>1.000000</td>\n",
              "      <td>1.000000</td>\n",
              "    </tr>\n",
              "  </tbody>\n",
              "</table>\n",
              "</div>"
            ],
            "text/plain": [
              "                age  ...  credit_card_default\n",
              "count  45528.000000  ...         45528.000000\n",
              "mean      38.993411  ...             0.081203\n",
              "std        9.543990  ...             0.273149\n",
              "min       23.000000  ...             0.000000\n",
              "25%       31.000000  ...             0.000000\n",
              "50%       39.000000  ...             0.000000\n",
              "75%       47.000000  ...             0.000000\n",
              "max       55.000000  ...             1.000000\n",
              "\n",
              "[8 rows x 13 columns]"
            ]
          },
          "metadata": {},
          "execution_count": 8
        }
      ]
    },
    {
      "cell_type": "code",
      "metadata": {
        "colab": {
          "base_uri": "https://localhost:8080/"
        },
        "id": "ovSQ4eqFXxs9",
        "outputId": "ba3c5659-cae8-4660-a697-de0cf555a905"
      },
      "source": [
        "train.isnull().sum()"
      ],
      "execution_count": null,
      "outputs": [
        {
          "output_type": "execute_result",
          "data": {
            "text/plain": [
              "customer_id                  0\n",
              "name                         0\n",
              "age                          0\n",
              "gender                       0\n",
              "owns_car                   547\n",
              "owns_house                   0\n",
              "no_of_children             774\n",
              "net_yearly_income            0\n",
              "no_of_days_employed        463\n",
              "occupation_type              0\n",
              "total_family_members        83\n",
              "migrant_worker              87\n",
              "yearly_debt_payments        95\n",
              "credit_limit                 0\n",
              "credit_limit_used(%)         0\n",
              "credit_score                 8\n",
              "prev_defaults                0\n",
              "default_in_last_6months      0\n",
              "credit_card_default          0\n",
              "dtype: int64"
            ]
          },
          "metadata": {},
          "execution_count": 9
        }
      ]
    },
    {
      "cell_type": "code",
      "metadata": {
        "colab": {
          "base_uri": "https://localhost:8080/"
        },
        "id": "neQzABzuXxql",
        "outputId": "ab0fe91a-9596-4898-a5d4-cecd01f3d13b"
      },
      "source": [
        "train.nunique()"
      ],
      "execution_count": null,
      "outputs": [
        {
          "output_type": "execute_result",
          "data": {
            "text/plain": [
              "customer_id                45528\n",
              "name                        4010\n",
              "age                           33\n",
              "gender                         3\n",
              "owns_car                       2\n",
              "owns_house                     2\n",
              "no_of_children                10\n",
              "net_yearly_income          45502\n",
              "no_of_days_employed         7874\n",
              "occupation_type               19\n",
              "total_family_members          10\n",
              "migrant_worker                 2\n",
              "yearly_debt_payments       45251\n",
              "credit_limit               45371\n",
              "credit_limit_used(%)         100\n",
              "credit_score                 450\n",
              "prev_defaults                  3\n",
              "default_in_last_6months        2\n",
              "credit_card_default            2\n",
              "dtype: int64"
            ]
          },
          "metadata": {},
          "execution_count": 10
        }
      ]
    },
    {
      "cell_type": "code",
      "metadata": {
        "colab": {
          "base_uri": "https://localhost:8080/",
          "height": 645
        },
        "id": "IxRc9phVY4xX",
        "outputId": "9ebb771a-8b6d-42b2-dc73-abcbb4141d39"
      },
      "source": [
        "t=pd.DataFrame(columns=['Column','Unique Values'])\n",
        "for i in train.columns:\n",
        "  t = t.append({'Column': i,'Unique Values': train[i].unique()}, ignore_index=True)\n",
        "t"
      ],
      "execution_count": null,
      "outputs": [
        {
          "output_type": "execute_result",
          "data": {
            "text/html": [
              "<div>\n",
              "<style scoped>\n",
              "    .dataframe tbody tr th:only-of-type {\n",
              "        vertical-align: middle;\n",
              "    }\n",
              "\n",
              "    .dataframe tbody tr th {\n",
              "        vertical-align: top;\n",
              "    }\n",
              "\n",
              "    .dataframe thead th {\n",
              "        text-align: right;\n",
              "    }\n",
              "</style>\n",
              "<table border=\"1\" class=\"dataframe\">\n",
              "  <thead>\n",
              "    <tr style=\"text-align: right;\">\n",
              "      <th></th>\n",
              "      <th>Column</th>\n",
              "      <th>Unique Values</th>\n",
              "    </tr>\n",
              "  </thead>\n",
              "  <tbody>\n",
              "    <tr>\n",
              "      <th>0</th>\n",
              "      <td>customer_id</td>\n",
              "      <td>[CST_115179, CST_121920, CST_109330, CST_12828...</td>\n",
              "    </tr>\n",
              "    <tr>\n",
              "      <th>1</th>\n",
              "      <td>name</td>\n",
              "      <td>[ita Bose, Alper Jonathan, Umesh Desai, Rie, M...</td>\n",
              "    </tr>\n",
              "    <tr>\n",
              "      <th>2</th>\n",
              "      <td>age</td>\n",
              "      <td>[46, 29, 37, 39, 38, 40, 32, 52, 43, 24, 41, 3...</td>\n",
              "    </tr>\n",
              "    <tr>\n",
              "      <th>3</th>\n",
              "      <td>gender</td>\n",
              "      <td>[F, M, XNA]</td>\n",
              "    </tr>\n",
              "    <tr>\n",
              "      <th>4</th>\n",
              "      <td>owns_car</td>\n",
              "      <td>[N, Y, nan]</td>\n",
              "    </tr>\n",
              "    <tr>\n",
              "      <th>5</th>\n",
              "      <td>owns_house</td>\n",
              "      <td>[Y, N]</td>\n",
              "    </tr>\n",
              "    <tr>\n",
              "      <th>6</th>\n",
              "      <td>no_of_children</td>\n",
              "      <td>[0.0, 1.0, 2.0, nan, 3.0, 4.0, 5.0, 6.0, 7.0, ...</td>\n",
              "    </tr>\n",
              "    <tr>\n",
              "      <th>7</th>\n",
              "      <td>net_yearly_income</td>\n",
              "      <td>[107934.04, 109862.62, 230153.17, 122325.82, 3...</td>\n",
              "    </tr>\n",
              "    <tr>\n",
              "      <th>8</th>\n",
              "      <td>no_of_days_employed</td>\n",
              "      <td>[612.0, 2771.0, 204.0, 11941.0, 1459.0, 2898.0...</td>\n",
              "    </tr>\n",
              "    <tr>\n",
              "      <th>9</th>\n",
              "      <td>occupation_type</td>\n",
              "      <td>[Unknown, Laborers, Core staff, Accountants, H...</td>\n",
              "    </tr>\n",
              "    <tr>\n",
              "      <th>10</th>\n",
              "      <td>total_family_members</td>\n",
              "      <td>[1.0, 2.0, 3.0, 4.0, 5.0, 6.0, nan, 7.0, 8.0, ...</td>\n",
              "    </tr>\n",
              "    <tr>\n",
              "      <th>11</th>\n",
              "      <td>migrant_worker</td>\n",
              "      <td>[1.0, 0.0, nan]</td>\n",
              "    </tr>\n",
              "    <tr>\n",
              "      <th>12</th>\n",
              "      <td>yearly_debt_payments</td>\n",
              "      <td>[33070.28, 15329.53, 48416.6, 22574.36, 38282....</td>\n",
              "    </tr>\n",
              "    <tr>\n",
              "      <th>13</th>\n",
              "      <td>credit_limit</td>\n",
              "      <td>[18690.93, 37745.19, 41598.36, 32627.76, 52950...</td>\n",
              "    </tr>\n",
              "    <tr>\n",
              "      <th>14</th>\n",
              "      <td>credit_limit_used(%)</td>\n",
              "      <td>[73, 52, 43, 20, 75, 19, 42, 91, 14, 58, 41, 7...</td>\n",
              "    </tr>\n",
              "    <tr>\n",
              "      <th>15</th>\n",
              "      <td>credit_score</td>\n",
              "      <td>[544.0, 857.0, 650.0, 754.0, 927.0, 937.0, 733...</td>\n",
              "    </tr>\n",
              "    <tr>\n",
              "      <th>16</th>\n",
              "      <td>prev_defaults</td>\n",
              "      <td>[2, 0, 1]</td>\n",
              "    </tr>\n",
              "    <tr>\n",
              "      <th>17</th>\n",
              "      <td>default_in_last_6months</td>\n",
              "      <td>[1, 0]</td>\n",
              "    </tr>\n",
              "    <tr>\n",
              "      <th>18</th>\n",
              "      <td>credit_card_default</td>\n",
              "      <td>[1, 0]</td>\n",
              "    </tr>\n",
              "  </tbody>\n",
              "</table>\n",
              "</div>"
            ],
            "text/plain": [
              "                     Column                                      Unique Values\n",
              "0               customer_id  [CST_115179, CST_121920, CST_109330, CST_12828...\n",
              "1                      name  [ita Bose, Alper Jonathan, Umesh Desai, Rie, M...\n",
              "2                       age  [46, 29, 37, 39, 38, 40, 32, 52, 43, 24, 41, 3...\n",
              "3                    gender                                        [F, M, XNA]\n",
              "4                  owns_car                                        [N, Y, nan]\n",
              "5                owns_house                                             [Y, N]\n",
              "6            no_of_children  [0.0, 1.0, 2.0, nan, 3.0, 4.0, 5.0, 6.0, 7.0, ...\n",
              "7         net_yearly_income  [107934.04, 109862.62, 230153.17, 122325.82, 3...\n",
              "8       no_of_days_employed  [612.0, 2771.0, 204.0, 11941.0, 1459.0, 2898.0...\n",
              "9           occupation_type  [Unknown, Laborers, Core staff, Accountants, H...\n",
              "10     total_family_members  [1.0, 2.0, 3.0, 4.0, 5.0, 6.0, nan, 7.0, 8.0, ...\n",
              "11           migrant_worker                                    [1.0, 0.0, nan]\n",
              "12     yearly_debt_payments  [33070.28, 15329.53, 48416.6, 22574.36, 38282....\n",
              "13             credit_limit  [18690.93, 37745.19, 41598.36, 32627.76, 52950...\n",
              "14     credit_limit_used(%)  [73, 52, 43, 20, 75, 19, 42, 91, 14, 58, 41, 7...\n",
              "15             credit_score  [544.0, 857.0, 650.0, 754.0, 927.0, 937.0, 733...\n",
              "16            prev_defaults                                          [2, 0, 1]\n",
              "17  default_in_last_6months                                             [1, 0]\n",
              "18      credit_card_default                                             [1, 0]"
            ]
          },
          "metadata": {},
          "execution_count": 11
        }
      ]
    },
    {
      "cell_type": "code",
      "metadata": {
        "colab": {
          "base_uri": "https://localhost:8080/",
          "height": 645
        },
        "id": "nbs7qaA5XxoU",
        "outputId": "1fd4449a-3e39-4d45-a903-e6a4dafda082"
      },
      "source": [
        "t=pd.DataFrame(columns=['Column','Unique Count'])\n",
        "for i in train.columns:\n",
        "  t = t.append({'Column': i,'Unique Count': train[i].nunique()}, ignore_index=True)\n",
        "t"
      ],
      "execution_count": null,
      "outputs": [
        {
          "output_type": "execute_result",
          "data": {
            "text/html": [
              "<div>\n",
              "<style scoped>\n",
              "    .dataframe tbody tr th:only-of-type {\n",
              "        vertical-align: middle;\n",
              "    }\n",
              "\n",
              "    .dataframe tbody tr th {\n",
              "        vertical-align: top;\n",
              "    }\n",
              "\n",
              "    .dataframe thead th {\n",
              "        text-align: right;\n",
              "    }\n",
              "</style>\n",
              "<table border=\"1\" class=\"dataframe\">\n",
              "  <thead>\n",
              "    <tr style=\"text-align: right;\">\n",
              "      <th></th>\n",
              "      <th>Column</th>\n",
              "      <th>Unique Count</th>\n",
              "    </tr>\n",
              "  </thead>\n",
              "  <tbody>\n",
              "    <tr>\n",
              "      <th>0</th>\n",
              "      <td>customer_id</td>\n",
              "      <td>45528</td>\n",
              "    </tr>\n",
              "    <tr>\n",
              "      <th>1</th>\n",
              "      <td>name</td>\n",
              "      <td>4010</td>\n",
              "    </tr>\n",
              "    <tr>\n",
              "      <th>2</th>\n",
              "      <td>age</td>\n",
              "      <td>33</td>\n",
              "    </tr>\n",
              "    <tr>\n",
              "      <th>3</th>\n",
              "      <td>gender</td>\n",
              "      <td>3</td>\n",
              "    </tr>\n",
              "    <tr>\n",
              "      <th>4</th>\n",
              "      <td>owns_car</td>\n",
              "      <td>2</td>\n",
              "    </tr>\n",
              "    <tr>\n",
              "      <th>5</th>\n",
              "      <td>owns_house</td>\n",
              "      <td>2</td>\n",
              "    </tr>\n",
              "    <tr>\n",
              "      <th>6</th>\n",
              "      <td>no_of_children</td>\n",
              "      <td>10</td>\n",
              "    </tr>\n",
              "    <tr>\n",
              "      <th>7</th>\n",
              "      <td>net_yearly_income</td>\n",
              "      <td>45502</td>\n",
              "    </tr>\n",
              "    <tr>\n",
              "      <th>8</th>\n",
              "      <td>no_of_days_employed</td>\n",
              "      <td>7874</td>\n",
              "    </tr>\n",
              "    <tr>\n",
              "      <th>9</th>\n",
              "      <td>occupation_type</td>\n",
              "      <td>19</td>\n",
              "    </tr>\n",
              "    <tr>\n",
              "      <th>10</th>\n",
              "      <td>total_family_members</td>\n",
              "      <td>10</td>\n",
              "    </tr>\n",
              "    <tr>\n",
              "      <th>11</th>\n",
              "      <td>migrant_worker</td>\n",
              "      <td>2</td>\n",
              "    </tr>\n",
              "    <tr>\n",
              "      <th>12</th>\n",
              "      <td>yearly_debt_payments</td>\n",
              "      <td>45251</td>\n",
              "    </tr>\n",
              "    <tr>\n",
              "      <th>13</th>\n",
              "      <td>credit_limit</td>\n",
              "      <td>45371</td>\n",
              "    </tr>\n",
              "    <tr>\n",
              "      <th>14</th>\n",
              "      <td>credit_limit_used(%)</td>\n",
              "      <td>100</td>\n",
              "    </tr>\n",
              "    <tr>\n",
              "      <th>15</th>\n",
              "      <td>credit_score</td>\n",
              "      <td>450</td>\n",
              "    </tr>\n",
              "    <tr>\n",
              "      <th>16</th>\n",
              "      <td>prev_defaults</td>\n",
              "      <td>3</td>\n",
              "    </tr>\n",
              "    <tr>\n",
              "      <th>17</th>\n",
              "      <td>default_in_last_6months</td>\n",
              "      <td>2</td>\n",
              "    </tr>\n",
              "    <tr>\n",
              "      <th>18</th>\n",
              "      <td>credit_card_default</td>\n",
              "      <td>2</td>\n",
              "    </tr>\n",
              "  </tbody>\n",
              "</table>\n",
              "</div>"
            ],
            "text/plain": [
              "                     Column Unique Count\n",
              "0               customer_id        45528\n",
              "1                      name         4010\n",
              "2                       age           33\n",
              "3                    gender            3\n",
              "4                  owns_car            2\n",
              "5                owns_house            2\n",
              "6            no_of_children           10\n",
              "7         net_yearly_income        45502\n",
              "8       no_of_days_employed         7874\n",
              "9           occupation_type           19\n",
              "10     total_family_members           10\n",
              "11           migrant_worker            2\n",
              "12     yearly_debt_payments        45251\n",
              "13             credit_limit        45371\n",
              "14     credit_limit_used(%)          100\n",
              "15             credit_score          450\n",
              "16            prev_defaults            3\n",
              "17  default_in_last_6months            2\n",
              "18      credit_card_default            2"
            ]
          },
          "metadata": {},
          "execution_count": 12
        }
      ]
    },
    {
      "cell_type": "code",
      "metadata": {
        "colab": {
          "base_uri": "https://localhost:8080/",
          "height": 954
        },
        "id": "MdVxPhUnZLcn",
        "outputId": "0d55fa68-0f9c-4f1e-b101-f18046649b66"
      },
      "source": [
        "for i in train.columns:\n",
        "  if(train[i].dtype=='object'):\n",
        "    display(train[i].value_counts())"
      ],
      "execution_count": null,
      "outputs": [
        {
          "output_type": "display_data",
          "data": {
            "text/plain": [
              "CST_106455    1\n",
              "CST_152802    1\n",
              "CST_149414    1\n",
              "CST_108949    1\n",
              "CST_161026    1\n",
              "             ..\n",
              "CST_125479    1\n",
              "CST_120420    1\n",
              "CST_151734    1\n",
              "CST_160890    1\n",
              "CST_117397    1\n",
              "Name: customer_id, Length: 45528, dtype: int64"
            ]
          },
          "metadata": {}
        },
        {
          "output_type": "display_data",
          "data": {
            "text/plain": [
              "Jonathan            207\n",
              "Jonathan Stempel    192\n",
              "David               170\n",
              "Stempel             165\n",
              "Jessica             162\n",
              "                   ... \n",
              "Gittleman             1\n",
              "Aleks Tapinsh         1\n",
              "Alex Richardson       1\n",
              "Auyezov               1\n",
              "Ceyda Caglayan        1\n",
              "Name: name, Length: 4010, dtype: int64"
            ]
          },
          "metadata": {}
        },
        {
          "output_type": "display_data",
          "data": {
            "text/plain": [
              "F      29957\n",
              "M      15570\n",
              "XNA        1\n",
              "Name: gender, dtype: int64"
            ]
          },
          "metadata": {}
        },
        {
          "output_type": "display_data",
          "data": {
            "text/plain": [
              "N    29743\n",
              "Y    15238\n",
              "Name: owns_car, dtype: int64"
            ]
          },
          "metadata": {}
        },
        {
          "output_type": "display_data",
          "data": {
            "text/plain": [
              "Y    31642\n",
              "N    13886\n",
              "Name: owns_house, dtype: int64"
            ]
          },
          "metadata": {}
        },
        {
          "output_type": "display_data",
          "data": {
            "text/plain": [
              "Unknown                  14299\n",
              "Laborers                  8134\n",
              "Sales staff               4725\n",
              "Core staff                4062\n",
              "Managers                  3168\n",
              "Drivers                   2747\n",
              "High skill tech staff     1682\n",
              "Accountants               1474\n",
              "Medicine staff            1275\n",
              "Security staff            1025\n",
              "Cooking staff              902\n",
              "Cleaning staff             665\n",
              "Private service staff      387\n",
              "Low-skill Laborers         336\n",
              "Waiters/barmen staff       203\n",
              "Secretaries                199\n",
              "Realty agents              101\n",
              "HR staff                    78\n",
              "IT staff                    66\n",
              "Name: occupation_type, dtype: int64"
            ]
          },
          "metadata": {}
        }
      ]
    },
    {
      "cell_type": "code",
      "metadata": {
        "colab": {
          "base_uri": "https://localhost:8080/",
          "height": 399
        },
        "id": "3K8GM-MkXxlz",
        "outputId": "e284c18a-29f6-43b3-8165-005811b89676"
      },
      "source": [
        "sns.heatmap(data=train.isnull(),cmap=\"tab20\")"
      ],
      "execution_count": null,
      "outputs": [
        {
          "output_type": "execute_result",
          "data": {
            "text/plain": [
              "<matplotlib.axes._subplots.AxesSubplot at 0x7f57d88ae4d0>"
            ]
          },
          "metadata": {},
          "execution_count": 14
        },
        {
          "output_type": "display_data",
          "data": {
            "image/png": "[encoded data removed]",
            "text/plain": [
              "<Figure size 432x288 with 2 Axes>"
            ]
          },
          "metadata": {
            "needs_background": "light"
          }
        }
      ]
    },
    {
      "cell_type": "code",
      "metadata": {
        "id": "zMGlS9RJXxjh"
      },
      "source": [
        "# train.fillna(train.select_dtypes(include='number').mean().iloc[0], inplace=True)\n",
        "# train.fillna(train.select_dtypes(include='object').mode().iloc[0], inplace=True)"
      ],
      "execution_count": null,
      "outputs": []
    },
    {
      "cell_type": "code",
      "metadata": {
        "id": "8pMD6DQ6ZXJ3"
      },
      "source": [
        "# sns.heatmap(data=train.isnull(),cmap=\"tab20\")"
      ],
      "execution_count": null,
      "outputs": []
    },
    {
      "cell_type": "code",
      "metadata": {
        "id": "ld6yrOvXZXHd"
      },
      "source": [
        "# train=pd.DataFrame({col: train[col].astype('category').cat.codes for col in train}, index=train.index)"
      ],
      "execution_count": null,
      "outputs": []
    },
    {
      "cell_type": "code",
      "metadata": {
        "colab": {
          "base_uri": "https://localhost:8080/",
          "height": 244
        },
        "id": "o6TOVTMzcwav",
        "outputId": "4f75bfcc-93b1-4fe7-8a93-5102236a1fcf"
      },
      "source": [
        "test.head()"
      ],
      "execution_count": null,
      "outputs": [
        {
          "output_type": "execute_result",
          "data": {
            "text/html": [
              "<div>\n",
              "<style scoped>\n",
              "    .dataframe tbody tr th:only-of-type {\n",
              "        vertical-align: middle;\n",
              "    }\n",
              "\n",
              "    .dataframe tbody tr th {\n",
              "        vertical-align: top;\n",
              "    }\n",
              "\n",
              "    .dataframe thead th {\n",
              "        text-align: right;\n",
              "    }\n",
              "</style>\n",
              "<table border=\"1\" class=\"dataframe\">\n",
              "  <thead>\n",
              "    <tr style=\"text-align: right;\">\n",
              "      <th></th>\n",
              "      <th>customer_id</th>\n",
              "      <th>name</th>\n",
              "      <th>age</th>\n",
              "      <th>gender</th>\n",
              "      <th>owns_car</th>\n",
              "      <th>owns_house</th>\n",
              "      <th>no_of_children</th>\n",
              "      <th>net_yearly_income</th>\n",
              "      <th>no_of_days_employed</th>\n",
              "      <th>occupation_type</th>\n",
              "      <th>total_family_members</th>\n",
              "      <th>migrant_worker</th>\n",
              "      <th>yearly_debt_payments</th>\n",
              "      <th>credit_limit</th>\n",
              "      <th>credit_limit_used(%)</th>\n",
              "      <th>credit_score</th>\n",
              "      <th>prev_defaults</th>\n",
              "      <th>default_in_last_6months</th>\n",
              "    </tr>\n",
              "  </thead>\n",
              "  <tbody>\n",
              "    <tr>\n",
              "      <th>0</th>\n",
              "      <td>CST_142525</td>\n",
              "      <td>Siva</td>\n",
              "      <td>52</td>\n",
              "      <td>F</td>\n",
              "      <td>Y</td>\n",
              "      <td>N</td>\n",
              "      <td>0.0</td>\n",
              "      <td>232640.53</td>\n",
              "      <td>998.0</td>\n",
              "      <td>Unknown</td>\n",
              "      <td>2.0</td>\n",
              "      <td>0.0</td>\n",
              "      <td>14406.73</td>\n",
              "      <td>26524.40</td>\n",
              "      <td>4</td>\n",
              "      <td>779.0</td>\n",
              "      <td>0</td>\n",
              "      <td>0</td>\n",
              "    </tr>\n",
              "    <tr>\n",
              "      <th>1</th>\n",
              "      <td>CST_129215</td>\n",
              "      <td>Scott</td>\n",
              "      <td>48</td>\n",
              "      <td>F</td>\n",
              "      <td>N</td>\n",
              "      <td>N</td>\n",
              "      <td>1.0</td>\n",
              "      <td>284396.79</td>\n",
              "      <td>1338.0</td>\n",
              "      <td>Unknown</td>\n",
              "      <td>3.0</td>\n",
              "      <td>0.0</td>\n",
              "      <td>57479.99</td>\n",
              "      <td>68998.72</td>\n",
              "      <td>70</td>\n",
              "      <td>806.0</td>\n",
              "      <td>0</td>\n",
              "      <td>0</td>\n",
              "    </tr>\n",
              "    <tr>\n",
              "      <th>2</th>\n",
              "      <td>CST_138443</td>\n",
              "      <td>Victoria</td>\n",
              "      <td>50</td>\n",
              "      <td>F</td>\n",
              "      <td>N</td>\n",
              "      <td>N</td>\n",
              "      <td>1.0</td>\n",
              "      <td>149419.28</td>\n",
              "      <td>1210.0</td>\n",
              "      <td>Unknown</td>\n",
              "      <td>3.0</td>\n",
              "      <td>0.0</td>\n",
              "      <td>21611.01</td>\n",
              "      <td>25187.80</td>\n",
              "      <td>71</td>\n",
              "      <td>528.0</td>\n",
              "      <td>2</td>\n",
              "      <td>0</td>\n",
              "    </tr>\n",
              "    <tr>\n",
              "      <th>3</th>\n",
              "      <td>CST_123812</td>\n",
              "      <td>John McCrank</td>\n",
              "      <td>30</td>\n",
              "      <td>F</td>\n",
              "      <td>N</td>\n",
              "      <td>N</td>\n",
              "      <td>1.0</td>\n",
              "      <td>160437.54</td>\n",
              "      <td>503.0</td>\n",
              "      <td>Laborers</td>\n",
              "      <td>2.0</td>\n",
              "      <td>1.0</td>\n",
              "      <td>28990.76</td>\n",
              "      <td>29179.39</td>\n",
              "      <td>9</td>\n",
              "      <td>815.0</td>\n",
              "      <td>0</td>\n",
              "      <td>0</td>\n",
              "    </tr>\n",
              "    <tr>\n",
              "      <th>4</th>\n",
              "      <td>CST_144450</td>\n",
              "      <td>Martinne</td>\n",
              "      <td>52</td>\n",
              "      <td>M</td>\n",
              "      <td>N</td>\n",
              "      <td>Y</td>\n",
              "      <td>0.0</td>\n",
              "      <td>233480.37</td>\n",
              "      <td>157.0</td>\n",
              "      <td>Laborers</td>\n",
              "      <td>2.0</td>\n",
              "      <td>1.0</td>\n",
              "      <td>54213.72</td>\n",
              "      <td>82331.82</td>\n",
              "      <td>82</td>\n",
              "      <td>613.0</td>\n",
              "      <td>1</td>\n",
              "      <td>1</td>\n",
              "    </tr>\n",
              "  </tbody>\n",
              "</table>\n",
              "</div>"
            ],
            "text/plain": [
              "  customer_id          name  ...  prev_defaults default_in_last_6months\n",
              "0  CST_142525          Siva  ...              0                       0\n",
              "1  CST_129215         Scott  ...              0                       0\n",
              "2  CST_138443      Victoria  ...              2                       0\n",
              "3  CST_123812  John McCrank  ...              0                       0\n",
              "4  CST_144450      Martinne  ...              1                       1\n",
              "\n",
              "[5 rows x 18 columns]"
            ]
          },
          "metadata": {},
          "execution_count": 18
        }
      ]
    },
    {
      "cell_type": "code",
      "metadata": {
        "id": "-K8Ds2OQg6EU"
      },
      "source": [
        "final=pd.DataFrame()\n",
        "final['customer_id']=test['customer_id']"
      ],
      "execution_count": null,
      "outputs": []
    },
    {
      "cell_type": "code",
      "metadata": {
        "colab": {
          "base_uri": "https://localhost:8080/"
        },
        "id": "OjZ7U_BEcx5Y",
        "outputId": "9ec44986-4087-4be0-b8c9-729069ec9d0c"
      },
      "source": [
        "test.shape"
      ],
      "execution_count": null,
      "outputs": [
        {
          "output_type": "execute_result",
          "data": {
            "text/plain": [
              "(11383, 18)"
            ]
          },
          "metadata": {},
          "execution_count": 20
        }
      ]
    },
    {
      "cell_type": "code",
      "metadata": {
        "colab": {
          "base_uri": "https://localhost:8080/"
        },
        "id": "XrLMf02EZXFB",
        "outputId": "15b6e67f-269d-4185-b277-f110a586d9b8"
      },
      "source": [
        "test.info()"
      ],
      "execution_count": null,
      "outputs": [
        {
          "output_type": "stream",
          "name": "stdout",
          "text": [
            "<class 'pandas.core.frame.DataFrame'>\n",
            "RangeIndex: 11383 entries, 0 to 11382\n",
            "Data columns (total 18 columns):\n",
            " #   Column                   Non-Null Count  Dtype  \n",
            "---  ------                   --------------  -----  \n",
            " 0   customer_id              11383 non-null  object \n",
            " 1   name                     11383 non-null  object \n",
            " 2   age                      11383 non-null  int64  \n",
            " 3   gender                   11383 non-null  object \n",
            " 4   owns_car                 11251 non-null  object \n",
            " 5   owns_house               11383 non-null  object \n",
            " 6   no_of_children           11193 non-null  float64\n",
            " 7   net_yearly_income        11383 non-null  float64\n",
            " 8   no_of_days_employed      11278 non-null  float64\n",
            " 9   occupation_type          11383 non-null  object \n",
            " 10  total_family_members     11352 non-null  float64\n",
            " 11  migrant_worker           11357 non-null  float64\n",
            " 12  yearly_debt_payments     11361 non-null  float64\n",
            " 13  credit_limit             11383 non-null  float64\n",
            " 14  credit_limit_used(%)     11383 non-null  int64  \n",
            " 15  credit_score             11380 non-null  float64\n",
            " 16  prev_defaults            11383 non-null  int64  \n",
            " 17  default_in_last_6months  11383 non-null  int64  \n",
            "dtypes: float64(8), int64(4), object(6)\n",
            "memory usage: 1.6+ MB\n"
          ]
        }
      ]
    },
    {
      "cell_type": "code",
      "metadata": {
        "colab": {
          "base_uri": "https://localhost:8080/",
          "height": 399
        },
        "id": "pfZW2uSdZXCf",
        "outputId": "663e611c-f436-48a4-f80b-8c9cfdc3b8dc"
      },
      "source": [
        "sns.heatmap(data=test.isnull(),cmap=\"tab20\")"
      ],
      "execution_count": null,
      "outputs": [
        {
          "output_type": "execute_result",
          "data": {
            "text/plain": [
              "<matplotlib.axes._subplots.AxesSubplot at 0x7f57cff75b90>"
            ]
          },
          "metadata": {},
          "execution_count": 22
        },
        {
          "output_type": "display_data",
          "data": {
            "image/png": "[encoded data removed]",
            "text/plain": [
              "<Figure size 432x288 with 2 Axes>"
            ]
          },
          "metadata": {
            "needs_background": "light"
          }
        }
      ]
    },
    {
      "cell_type": "code",
      "metadata": {
        "colab": {
          "base_uri": "https://localhost:8080/"
        },
        "id": "v8e-nng2c1OZ",
        "outputId": "1a0804f7-03e0-4458-9957-7923880b8279"
      },
      "source": [
        "test.isnull().sum()"
      ],
      "execution_count": null,
      "outputs": [
        {
          "output_type": "execute_result",
          "data": {
            "text/plain": [
              "customer_id                  0\n",
              "name                         0\n",
              "age                          0\n",
              "gender                       0\n",
              "owns_car                   132\n",
              "owns_house                   0\n",
              "no_of_children             190\n",
              "net_yearly_income            0\n",
              "no_of_days_employed        105\n",
              "occupation_type              0\n",
              "total_family_members        31\n",
              "migrant_worker              26\n",
              "yearly_debt_payments        22\n",
              "credit_limit                 0\n",
              "credit_limit_used(%)         0\n",
              "credit_score                 3\n",
              "prev_defaults                0\n",
              "default_in_last_6months      0\n",
              "dtype: int64"
            ]
          },
          "metadata": {},
          "execution_count": 23
        }
      ]
    },
    {
      "cell_type": "code",
      "metadata": {
        "colab": {
          "base_uri": "https://localhost:8080/",
          "height": 320
        },
        "id": "TD0wYpeOc1Lu",
        "outputId": "8914a640-e97f-4244-e568-2da1d08bd8c3"
      },
      "source": [
        "test.describe()"
      ],
      "execution_count": null,
      "outputs": [
        {
          "output_type": "execute_result",
          "data": {
            "text/html": [
              "<div>\n",
              "<style scoped>\n",
              "    .dataframe tbody tr th:only-of-type {\n",
              "        vertical-align: middle;\n",
              "    }\n",
              "\n",
              "    .dataframe tbody tr th {\n",
              "        vertical-align: top;\n",
              "    }\n",
              "\n",
              "    .dataframe thead th {\n",
              "        text-align: right;\n",
              "    }\n",
              "</style>\n",
              "<table border=\"1\" class=\"dataframe\">\n",
              "  <thead>\n",
              "    <tr style=\"text-align: right;\">\n",
              "      <th></th>\n",
              "      <th>age</th>\n",
              "      <th>no_of_children</th>\n",
              "      <th>net_yearly_income</th>\n",
              "      <th>no_of_days_employed</th>\n",
              "      <th>total_family_members</th>\n",
              "      <th>migrant_worker</th>\n",
              "      <th>yearly_debt_payments</th>\n",
              "      <th>credit_limit</th>\n",
              "      <th>credit_limit_used(%)</th>\n",
              "      <th>credit_score</th>\n",
              "      <th>prev_defaults</th>\n",
              "      <th>default_in_last_6months</th>\n",
              "    </tr>\n",
              "  </thead>\n",
              "  <tbody>\n",
              "    <tr>\n",
              "      <th>count</th>\n",
              "      <td>11383.000000</td>\n",
              "      <td>11193.000000</td>\n",
              "      <td>1.138300e+04</td>\n",
              "      <td>11278.000000</td>\n",
              "      <td>11352.000000</td>\n",
              "      <td>11357.000000</td>\n",
              "      <td>11361.000000</td>\n",
              "      <td>11383.000000</td>\n",
              "      <td>11383.000000</td>\n",
              "      <td>11380.000000</td>\n",
              "      <td>11383.000000</td>\n",
              "      <td>11383.000000</td>\n",
              "    </tr>\n",
              "    <tr>\n",
              "      <th>mean</th>\n",
              "      <td>39.073004</td>\n",
              "      <td>0.419012</td>\n",
              "      <td>1.987084e+05</td>\n",
              "      <td>65519.798280</td>\n",
              "      <td>2.157593</td>\n",
              "      <td>0.178040</td>\n",
              "      <td>32078.968043</td>\n",
              "      <td>42972.207247</td>\n",
              "      <td>51.780989</td>\n",
              "      <td>784.389455</td>\n",
              "      <td>0.058069</td>\n",
              "      <td>0.048669</td>\n",
              "    </tr>\n",
              "    <tr>\n",
              "      <th>std</th>\n",
              "      <td>9.572474</td>\n",
              "      <td>0.727709</td>\n",
              "      <td>1.151905e+05</td>\n",
              "      <td>137572.106971</td>\n",
              "      <td>0.917391</td>\n",
              "      <td>0.382563</td>\n",
              "      <td>17417.412533</td>\n",
              "      <td>29325.712903</td>\n",
              "      <td>29.386130</td>\n",
              "      <td>100.468636</td>\n",
              "      <td>0.260202</td>\n",
              "      <td>0.215185</td>\n",
              "    </tr>\n",
              "    <tr>\n",
              "      <th>min</th>\n",
              "      <td>23.000000</td>\n",
              "      <td>0.000000</td>\n",
              "      <td>3.030994e+04</td>\n",
              "      <td>-3.000000</td>\n",
              "      <td>1.000000</td>\n",
              "      <td>0.000000</td>\n",
              "      <td>2371.740000</td>\n",
              "      <td>3604.650000</td>\n",
              "      <td>0.000000</td>\n",
              "      <td>500.000000</td>\n",
              "      <td>0.000000</td>\n",
              "      <td>0.000000</td>\n",
              "    </tr>\n",
              "    <tr>\n",
              "      <th>25%</th>\n",
              "      <td>31.000000</td>\n",
              "      <td>0.000000</td>\n",
              "      <td>1.274479e+05</td>\n",
              "      <td>934.250000</td>\n",
              "      <td>2.000000</td>\n",
              "      <td>0.000000</td>\n",
              "      <td>19522.320000</td>\n",
              "      <td>24148.525000</td>\n",
              "      <td>26.000000</td>\n",
              "      <td>705.000000</td>\n",
              "      <td>0.000000</td>\n",
              "      <td>0.000000</td>\n",
              "    </tr>\n",
              "    <tr>\n",
              "      <th>50%</th>\n",
              "      <td>39.000000</td>\n",
              "      <td>0.000000</td>\n",
              "      <td>1.728695e+05</td>\n",
              "      <td>2216.000000</td>\n",
              "      <td>2.000000</td>\n",
              "      <td>0.000000</td>\n",
              "      <td>29246.110000</td>\n",
              "      <td>35793.490000</td>\n",
              "      <td>53.000000</td>\n",
              "      <td>787.000000</td>\n",
              "      <td>0.000000</td>\n",
              "      <td>0.000000</td>\n",
              "    </tr>\n",
              "    <tr>\n",
              "      <th>75%</th>\n",
              "      <td>47.000000</td>\n",
              "      <td>1.000000</td>\n",
              "      <td>2.402339e+05</td>\n",
              "      <td>5517.000000</td>\n",
              "      <td>3.000000</td>\n",
              "      <td>0.000000</td>\n",
              "      <td>40729.260000</td>\n",
              "      <td>53527.890000</td>\n",
              "      <td>78.000000</td>\n",
              "      <td>870.000000</td>\n",
              "      <td>0.000000</td>\n",
              "      <td>0.000000</td>\n",
              "    </tr>\n",
              "    <tr>\n",
              "      <th>max</th>\n",
              "      <td>55.000000</td>\n",
              "      <td>11.000000</td>\n",
              "      <td>2.472450e+06</td>\n",
              "      <td>365252.000000</td>\n",
              "      <td>13.000000</td>\n",
              "      <td>1.000000</td>\n",
              "      <td>280114.740000</td>\n",
              "      <td>421517.090000</td>\n",
              "      <td>99.000000</td>\n",
              "      <td>949.000000</td>\n",
              "      <td>2.000000</td>\n",
              "      <td>1.000000</td>\n",
              "    </tr>\n",
              "  </tbody>\n",
              "</table>\n",
              "</div>"
            ],
            "text/plain": [
              "                age  no_of_children  ...  prev_defaults  default_in_last_6months\n",
              "count  11383.000000    11193.000000  ...   11383.000000             11383.000000\n",
              "mean      39.073004        0.419012  ...       0.058069                 0.048669\n",
              "std        9.572474        0.727709  ...       0.260202                 0.215185\n",
              "min       23.000000        0.000000  ...       0.000000                 0.000000\n",
              "25%       31.000000        0.000000  ...       0.000000                 0.000000\n",
              "50%       39.000000        0.000000  ...       0.000000                 0.000000\n",
              "75%       47.000000        1.000000  ...       0.000000                 0.000000\n",
              "max       55.000000       11.000000  ...       2.000000                 1.000000\n",
              "\n",
              "[8 rows x 12 columns]"
            ]
          },
          "metadata": {},
          "execution_count": 24
        }
      ]
    },
    {
      "cell_type": "code",
      "metadata": {
        "colab": {
          "base_uri": "https://localhost:8080/",
          "height": 614
        },
        "id": "VJ24-8b6c1Iu",
        "outputId": "0e8ab87e-c9e1-4198-b665-8717a2073b91"
      },
      "source": [
        "t=pd.DataFrame(columns=['Column','Unique Values'])\n",
        "for i in test.columns:\n",
        "  t = t.append({'Column': i,'Unique Values': test[i].unique()}, ignore_index=True)\n",
        "t"
      ],
      "execution_count": null,
      "outputs": [
        {
          "output_type": "execute_result",
          "data": {
            "text/html": [
              "<div>\n",
              "<style scoped>\n",
              "    .dataframe tbody tr th:only-of-type {\n",
              "        vertical-align: middle;\n",
              "    }\n",
              "\n",
              "    .dataframe tbody tr th {\n",
              "        vertical-align: top;\n",
              "    }\n",
              "\n",
              "    .dataframe thead th {\n",
              "        text-align: right;\n",
              "    }\n",
              "</style>\n",
              "<table border=\"1\" class=\"dataframe\">\n",
              "  <thead>\n",
              "    <tr style=\"text-align: right;\">\n",
              "      <th></th>\n",
              "      <th>Column</th>\n",
              "      <th>Unique Values</th>\n",
              "    </tr>\n",
              "  </thead>\n",
              "  <tbody>\n",
              "    <tr>\n",
              "      <th>0</th>\n",
              "      <td>customer_id</td>\n",
              "      <td>[CST_142525, CST_129215, CST_138443, CST_12381...</td>\n",
              "    </tr>\n",
              "    <tr>\n",
              "      <th>1</th>\n",
              "      <td>name</td>\n",
              "      <td>[Siva, Scott, Victoria, John McCrank, Martinne...</td>\n",
              "    </tr>\n",
              "    <tr>\n",
              "      <th>2</th>\n",
              "      <td>age</td>\n",
              "      <td>[52, 48, 50, 30, 29, 37, 41, 27, 25, 51, 47, 4...</td>\n",
              "    </tr>\n",
              "    <tr>\n",
              "      <th>3</th>\n",
              "      <td>gender</td>\n",
              "      <td>[F, M, XNA]</td>\n",
              "    </tr>\n",
              "    <tr>\n",
              "      <th>4</th>\n",
              "      <td>owns_car</td>\n",
              "      <td>[Y, N, nan]</td>\n",
              "    </tr>\n",
              "    <tr>\n",
              "      <th>5</th>\n",
              "      <td>owns_house</td>\n",
              "      <td>[N, Y]</td>\n",
              "    </tr>\n",
              "    <tr>\n",
              "      <th>6</th>\n",
              "      <td>no_of_children</td>\n",
              "      <td>[0.0, 1.0, 2.0, nan, 3.0, 5.0, 4.0, 7.0, 11.0]</td>\n",
              "    </tr>\n",
              "    <tr>\n",
              "      <th>7</th>\n",
              "      <td>net_yearly_income</td>\n",
              "      <td>[232640.53, 284396.79, 149419.28, 160437.54, 2...</td>\n",
              "    </tr>\n",
              "    <tr>\n",
              "      <th>8</th>\n",
              "      <td>no_of_days_employed</td>\n",
              "      <td>[998.0, 1338.0, 1210.0, 503.0, 157.0, 4794.0, ...</td>\n",
              "    </tr>\n",
              "    <tr>\n",
              "      <th>9</th>\n",
              "      <td>occupation_type</td>\n",
              "      <td>[Unknown, Laborers, Sales staff, Medicine staf...</td>\n",
              "    </tr>\n",
              "    <tr>\n",
              "      <th>10</th>\n",
              "      <td>total_family_members</td>\n",
              "      <td>[2.0, 3.0, 1.0, 4.0, 5.0, 6.0, nan, 7.0, 9.0, ...</td>\n",
              "    </tr>\n",
              "    <tr>\n",
              "      <th>11</th>\n",
              "      <td>migrant_worker</td>\n",
              "      <td>[0.0, 1.0, nan]</td>\n",
              "    </tr>\n",
              "    <tr>\n",
              "      <th>12</th>\n",
              "      <td>yearly_debt_payments</td>\n",
              "      <td>[14406.73, 57479.99, 21611.01, 28990.76, 54213...</td>\n",
              "    </tr>\n",
              "    <tr>\n",
              "      <th>13</th>\n",
              "      <td>credit_limit</td>\n",
              "      <td>[26524.4, 68998.72, 25187.8, 29179.39, 82331.8...</td>\n",
              "    </tr>\n",
              "    <tr>\n",
              "      <th>14</th>\n",
              "      <td>credit_limit_used(%)</td>\n",
              "      <td>[4, 70, 71, 9, 82, 29, 5, 12, 90, 85, 91, 13, ...</td>\n",
              "    </tr>\n",
              "    <tr>\n",
              "      <th>15</th>\n",
              "      <td>credit_score</td>\n",
              "      <td>[779.0, 806.0, 528.0, 815.0, 613.0, 720.0, 944...</td>\n",
              "    </tr>\n",
              "    <tr>\n",
              "      <th>16</th>\n",
              "      <td>prev_defaults</td>\n",
              "      <td>[0, 2, 1]</td>\n",
              "    </tr>\n",
              "    <tr>\n",
              "      <th>17</th>\n",
              "      <td>default_in_last_6months</td>\n",
              "      <td>[0, 1]</td>\n",
              "    </tr>\n",
              "  </tbody>\n",
              "</table>\n",
              "</div>"
            ],
            "text/plain": [
              "                     Column                                      Unique Values\n",
              "0               customer_id  [CST_142525, CST_129215, CST_138443, CST_12381...\n",
              "1                      name  [Siva, Scott, Victoria, John McCrank, Martinne...\n",
              "2                       age  [52, 48, 50, 30, 29, 37, 41, 27, 25, 51, 47, 4...\n",
              "3                    gender                                        [F, M, XNA]\n",
              "4                  owns_car                                        [Y, N, nan]\n",
              "5                owns_house                                             [N, Y]\n",
              "6            no_of_children     [0.0, 1.0, 2.0, nan, 3.0, 5.0, 4.0, 7.0, 11.0]\n",
              "7         net_yearly_income  [232640.53, 284396.79, 149419.28, 160437.54, 2...\n",
              "8       no_of_days_employed  [998.0, 1338.0, 1210.0, 503.0, 157.0, 4794.0, ...\n",
              "9           occupation_type  [Unknown, Laborers, Sales staff, Medicine staf...\n",
              "10     total_family_members  [2.0, 3.0, 1.0, 4.0, 5.0, 6.0, nan, 7.0, 9.0, ...\n",
              "11           migrant_worker                                    [0.0, 1.0, nan]\n",
              "12     yearly_debt_payments  [14406.73, 57479.99, 21611.01, 28990.76, 54213...\n",
              "13             credit_limit  [26524.4, 68998.72, 25187.8, 29179.39, 82331.8...\n",
              "14     credit_limit_used(%)  [4, 70, 71, 9, 82, 29, 5, 12, 90, 85, 91, 13, ...\n",
              "15             credit_score  [779.0, 806.0, 528.0, 815.0, 613.0, 720.0, 944...\n",
              "16            prev_defaults                                          [0, 2, 1]\n",
              "17  default_in_last_6months                                             [0, 1]"
            ]
          },
          "metadata": {},
          "execution_count": 25
        }
      ]
    },
    {
      "cell_type": "code",
      "metadata": {
        "colab": {
          "base_uri": "https://localhost:8080/",
          "height": 614
        },
        "id": "niUTxhRRc1GZ",
        "outputId": "32df2188-4128-4e0b-c6e7-34c60defd2f3"
      },
      "source": [
        "t=pd.DataFrame(columns=['Column','Unique Count'])\n",
        "for i in test.columns:\n",
        "  t = t.append({'Column': i,'Unique Count': test[i].nunique()}, ignore_index=True)\n",
        "t"
      ],
      "execution_count": null,
      "outputs": [
        {
          "output_type": "execute_result",
          "data": {
            "text/html": [
              "<div>\n",
              "<style scoped>\n",
              "    .dataframe tbody tr th:only-of-type {\n",
              "        vertical-align: middle;\n",
              "    }\n",
              "\n",
              "    .dataframe tbody tr th {\n",
              "        vertical-align: top;\n",
              "    }\n",
              "\n",
              "    .dataframe thead th {\n",
              "        text-align: right;\n",
              "    }\n",
              "</style>\n",
              "<table border=\"1\" class=\"dataframe\">\n",
              "  <thead>\n",
              "    <tr style=\"text-align: right;\">\n",
              "      <th></th>\n",
              "      <th>Column</th>\n",
              "      <th>Unique Count</th>\n",
              "    </tr>\n",
              "  </thead>\n",
              "  <tbody>\n",
              "    <tr>\n",
              "      <th>0</th>\n",
              "      <td>customer_id</td>\n",
              "      <td>11383</td>\n",
              "    </tr>\n",
              "    <tr>\n",
              "      <th>1</th>\n",
              "      <td>name</td>\n",
              "      <td>2459</td>\n",
              "    </tr>\n",
              "    <tr>\n",
              "      <th>2</th>\n",
              "      <td>age</td>\n",
              "      <td>33</td>\n",
              "    </tr>\n",
              "    <tr>\n",
              "      <th>3</th>\n",
              "      <td>gender</td>\n",
              "      <td>3</td>\n",
              "    </tr>\n",
              "    <tr>\n",
              "      <th>4</th>\n",
              "      <td>owns_car</td>\n",
              "      <td>2</td>\n",
              "    </tr>\n",
              "    <tr>\n",
              "      <th>5</th>\n",
              "      <td>owns_house</td>\n",
              "      <td>2</td>\n",
              "    </tr>\n",
              "    <tr>\n",
              "      <th>6</th>\n",
              "      <td>no_of_children</td>\n",
              "      <td>8</td>\n",
              "    </tr>\n",
              "    <tr>\n",
              "      <th>7</th>\n",
              "      <td>net_yearly_income</td>\n",
              "      <td>11380</td>\n",
              "    </tr>\n",
              "    <tr>\n",
              "      <th>8</th>\n",
              "      <td>no_of_days_employed</td>\n",
              "      <td>4558</td>\n",
              "    </tr>\n",
              "    <tr>\n",
              "      <th>9</th>\n",
              "      <td>occupation_type</td>\n",
              "      <td>19</td>\n",
              "    </tr>\n",
              "    <tr>\n",
              "      <th>10</th>\n",
              "      <td>total_family_members</td>\n",
              "      <td>9</td>\n",
              "    </tr>\n",
              "    <tr>\n",
              "      <th>11</th>\n",
              "      <td>migrant_worker</td>\n",
              "      <td>2</td>\n",
              "    </tr>\n",
              "    <tr>\n",
              "      <th>12</th>\n",
              "      <td>yearly_debt_payments</td>\n",
              "      <td>11346</td>\n",
              "    </tr>\n",
              "    <tr>\n",
              "      <th>13</th>\n",
              "      <td>credit_limit</td>\n",
              "      <td>11372</td>\n",
              "    </tr>\n",
              "    <tr>\n",
              "      <th>14</th>\n",
              "      <td>credit_limit_used(%)</td>\n",
              "      <td>100</td>\n",
              "    </tr>\n",
              "    <tr>\n",
              "      <th>15</th>\n",
              "      <td>credit_score</td>\n",
              "      <td>449</td>\n",
              "    </tr>\n",
              "    <tr>\n",
              "      <th>16</th>\n",
              "      <td>prev_defaults</td>\n",
              "      <td>3</td>\n",
              "    </tr>\n",
              "    <tr>\n",
              "      <th>17</th>\n",
              "      <td>default_in_last_6months</td>\n",
              "      <td>2</td>\n",
              "    </tr>\n",
              "  </tbody>\n",
              "</table>\n",
              "</div>"
            ],
            "text/plain": [
              "                     Column Unique Count\n",
              "0               customer_id        11383\n",
              "1                      name         2459\n",
              "2                       age           33\n",
              "3                    gender            3\n",
              "4                  owns_car            2\n",
              "5                owns_house            2\n",
              "6            no_of_children            8\n",
              "7         net_yearly_income        11380\n",
              "8       no_of_days_employed         4558\n",
              "9           occupation_type           19\n",
              "10     total_family_members            9\n",
              "11           migrant_worker            2\n",
              "12     yearly_debt_payments        11346\n",
              "13             credit_limit        11372\n",
              "14     credit_limit_used(%)          100\n",
              "15             credit_score          449\n",
              "16            prev_defaults            3\n",
              "17  default_in_last_6months            2"
            ]
          },
          "metadata": {},
          "execution_count": 26
        }
      ]
    },
    {
      "cell_type": "code",
      "metadata": {
        "id": "9JLxmB2yc1D3"
      },
      "source": [
        "# test.fillna(test.select_dtypes(include='number').mean().iloc[0], inplace=True)\n",
        "# test.fillna(test.select_dtypes(include='object').mode().iloc[0], inplace=True)"
      ],
      "execution_count": null,
      "outputs": []
    },
    {
      "cell_type": "code",
      "metadata": {
        "id": "OBIu7AEuXxgw"
      },
      "source": [
        "# sns.heatmap(data=test.isnull(),cmap=\"tab20\")"
      ],
      "execution_count": null,
      "outputs": []
    },
    {
      "cell_type": "code",
      "metadata": {
        "id": "u7PBpB_0d-82"
      },
      "source": [
        "# test=pd.DataFrame({col: test[col].astype('category').cat.codes for col in test}, index=test.index)"
      ],
      "execution_count": null,
      "outputs": []
    },
    {
      "cell_type": "code",
      "metadata": {
        "id": "DxDEpEOo2jTT"
      },
      "source": [
        "data=train.append(test).drop(columns=['credit_card_default'])"
      ],
      "execution_count": null,
      "outputs": []
    },
    {
      "cell_type": "code",
      "metadata": {
        "colab": {
          "base_uri": "https://localhost:8080/"
        },
        "id": "jrb5vvec28ak",
        "outputId": "d6ddb9c2-2177-456e-c924-ad39931e236e"
      },
      "source": [
        "data.isnull().sum()"
      ],
      "execution_count": null,
      "outputs": [
        {
          "output_type": "execute_result",
          "data": {
            "text/plain": [
              "customer_id                  0\n",
              "name                         0\n",
              "age                          0\n",
              "gender                       0\n",
              "owns_car                   679\n",
              "owns_house                   0\n",
              "no_of_children             964\n",
              "net_yearly_income            0\n",
              "no_of_days_employed        568\n",
              "occupation_type              0\n",
              "total_family_members       114\n",
              "migrant_worker             113\n",
              "yearly_debt_payments       117\n",
              "credit_limit                 0\n",
              "credit_limit_used(%)         0\n",
              "credit_score                11\n",
              "prev_defaults                0\n",
              "default_in_last_6months      0\n",
              "dtype: int64"
            ]
          },
          "metadata": {},
          "execution_count": 31
        }
      ]
    },
    {
      "cell_type": "code",
      "metadata": {
        "id": "xmarFFpRBrJG"
      },
      "source": [
        "data.fillna(data.select_dtypes(include='number').mean().iloc[0], inplace=True)\n",
        "data.fillna(data.select_dtypes(include='object').mode().iloc[0], inplace=True)"
      ],
      "execution_count": null,
      "outputs": []
    },
    {
      "cell_type": "code",
      "metadata": {
        "id": "TgPEOi6EBrBy"
      },
      "source": [
        "data=pd.DataFrame({col: data[col].astype('category').cat.codes for col in data}, index=data.index)"
      ],
      "execution_count": null,
      "outputs": []
    },
    {
      "cell_type": "code",
      "metadata": {
        "id": "xzXtxlBT3GYq"
      },
      "source": [
        "for i in data.columns:\n",
        "  train[i]=data[i].iloc[:45528]\n",
        "  test[i]=data[i].iloc[45528:]"
      ],
      "execution_count": null,
      "outputs": []
    },
    {
      "cell_type": "code",
      "metadata": {
        "id": "OCyFO_dSH1kX"
      },
      "source": [
        "# from scipy.stats import zscore\n",
        "# temp=train.drop(columns=['credit_card_default'])\n",
        "# z_scores = zscore(temp)\n",
        "# abs_z_scores = np.abs(z_scores)\n",
        "# filtered_entries = (abs_z_scores < 3).all(axis=1)\n",
        "# temp = temp[filtered_entries]\n",
        "# temp['credit_card_default']=train['credit_card_default'][filtered_entries]\n",
        "# train=temp"
      ],
      "execution_count": null,
      "outputs": []
    },
    {
      "cell_type": "markdown",
      "metadata": {
        "id": "rWFDJIRHeUGg"
      },
      "source": [
        "### Feature Selection Method 1"
      ]
    },
    {
      "cell_type": "code",
      "metadata": {
        "id": "pa7gR7L7eTpW"
      },
      "source": [
        "# l=abs(train.corr()[\"credit_card_default\"][abs(train.corr()[\"credit_card_default\"])>0.9].drop('credit_card_default')).index.tolist()\n",
        "# l"
      ],
      "execution_count": null,
      "outputs": []
    },
    {
      "cell_type": "markdown",
      "metadata": {
        "id": "hc8mFjbaeY5c"
      },
      "source": [
        "### Feature Selection Method 2"
      ]
    },
    {
      "cell_type": "code",
      "metadata": {
        "id": "tdOMZWa5Lb6N"
      },
      "source": [
        "# X=train.drop(columns=['credit_card_default','customer_id'])\n",
        "# Y=train['credit_card_default']"
      ],
      "execution_count": null,
      "outputs": []
    },
    {
      "cell_type": "code",
      "metadata": {
        "id": "gMthdDBkd-6C"
      },
      "source": [
        "# %%time\n",
        "# from boruta import BorutaPy\n",
        "# from sklearn.ensemble import RandomForestClassifier\n",
        "# forest = RandomForestClassifier(n_jobs=-1, class_weight='balanced', max_depth=5)\n",
        "# # forest.fit(X, Y)\n",
        "# feat_selector = BorutaPy(forest, n_estimators='auto', verbose=2, random_state=1)\n",
        "# feat_selector.fit(X.values, Y.values)\n",
        "# # check selected features\n",
        "# feat_selector.support_\n",
        "# # check ranking of features\n",
        "# feat_selector.ranking_"
      ],
      "execution_count": null,
      "outputs": []
    },
    {
      "cell_type": "code",
      "metadata": {
        "id": "D16HgFrMeNfX"
      },
      "source": [
        "# feature_ranks = list(zip(X.columns, \n",
        "#                          feat_selector.ranking_, \n",
        "#                          feat_selector.support_))\n",
        "\n",
        "# # iterate through and print out the results\n",
        "# for feat in feature_ranks:\n",
        "#     print('Feature: {:<25} Rank: {},  Keep: {}'.format(feat[0], feat[1], feat[2]))"
      ],
      "execution_count": null,
      "outputs": []
    },
    {
      "cell_type": "code",
      "metadata": {
        "id": "yPU_CpMmMqH9"
      },
      "source": [
        "# l=['name','age','owns_car','owns_house','no_of_children','total_family_members','migrant_worker']"
      ],
      "execution_count": null,
      "outputs": []
    },
    {
      "cell_type": "markdown",
      "metadata": {
        "id": "He-lH0zEfG8H"
      },
      "source": [
        "## Training Data"
      ]
    },
    {
      "cell_type": "code",
      "metadata": {
        "id": "P0Qvm7ipeNS1"
      },
      "source": [
        "# l.append('credit_card_default')\n",
        "# l.append('customer_id')\n",
        "# l.append('name')\n",
        "# x = train.drop(columns=l)\n",
        "# y = train['credit_card_default']\n",
        "# l.remove('credit_card_default')\n",
        "# z = test.drop(columns=l)"
      ],
      "execution_count": null,
      "outputs": []
    },
    {
      "cell_type": "code",
      "metadata": {
        "id": "A3ZBBpop2M75"
      },
      "source": [
        "x=train.drop(columns=['credit_card_default'])\n",
        "# x.drop(columns=l,axis=1,inplace=True)\n",
        "y=train['credit_card_default']\n",
        "z=test\n",
        "# z.drop(columns=l,axis=1,inplace=True)"
      ],
      "execution_count": null,
      "outputs": []
    },
    {
      "cell_type": "code",
      "metadata": {
        "id": "K_aTxSmDeNQO"
      },
      "source": [
        "from sklearn.model_selection import train_test_split\n",
        "X_train, X_test, y_train, y_test = train_test_split(x,y, test_size=0.3,random_state=0)"
      ],
      "execution_count": null,
      "outputs": []
    },
    {
      "cell_type": "code",
      "metadata": {
        "colab": {
          "base_uri": "https://localhost:8080/"
        },
        "id": "QHIrXMPLd-3Z",
        "outputId": "1ad53121-2bf0-4ee4-f1cd-7acf41b2aba5"
      },
      "source": [
        "print(\"X_train: {}\".format(X_train.shape))\n",
        "print(\"X_test: {}\".format(X_test.shape))\n",
        "print(\"Y_train: {}\".format(y_train.shape))\n",
        "print(\"Y_test: {}\".format(y_test.shape))"
      ],
      "execution_count": null,
      "outputs": [
        {
          "output_type": "stream",
          "name": "stdout",
          "text": [
            "X_train: (31869, 18)\n",
            "X_test: (13659, 18)\n",
            "Y_train: (31869,)\n",
            "Y_test: (13659,)\n"
          ]
        }
      ]
    },
    {
      "cell_type": "code",
      "metadata": {
        "colab": {
          "base_uri": "https://localhost:8080/"
        },
        "id": "au9tNdd5e8QI",
        "outputId": "97e39af2-c91e-492e-edfe-2f5cf0e82ea5"
      },
      "source": [
        "from sklearn.linear_model import LogisticRegression\n",
        "from sklearn.metrics import classification_report\n",
        "from sklearn.metrics import confusion_matrix\n",
        "\n",
        "logistic_regression= LogisticRegression()\n",
        "logistic_regression.fit(X_train,y_train)\n",
        "y_train_pred=logistic_regression.predict(X_train)\n",
        "y_pred=logistic_regression.predict(X_test)\n",
        "print(\"##################### Test Accuracy #####################\")\n",
        "print(classification_report(y_test, y_pred))\n",
        "print(\"#########################################################\")\n",
        "print(\"##################### Train Accuracy ####################\")\n",
        "print(classification_report(y_train,y_train_pred))\n",
        "print(\"#########################################################\")\n",
        "print(\"################# Test Confusion Matrix #################\")\n",
        "print(confusion_matrix(y_test, y_pred))\n",
        "print(\"################# Train Confusion Matrix ################\")\n",
        "print(confusion_matrix(y_train, y_train_pred))\n",
        "print(\"#########################################################\")"
      ],
      "execution_count": null,
      "outputs": [
        {
          "output_type": "stream",
          "name": "stdout",
          "text": [
            "##################### Test Accuracy #####################\n",
            "              precision    recall  f1-score   support\n",
            "\n",
            "           0       0.98      0.99      0.99     12578\n",
            "           1       0.86      0.80      0.83      1081\n",
            "\n",
            "    accuracy                           0.97     13659\n",
            "   macro avg       0.92      0.90      0.91     13659\n",
            "weighted avg       0.97      0.97      0.97     13659\n",
            "\n",
            "#########################################################\n",
            "##################### Train Accuracy ####################\n",
            "              precision    recall  f1-score   support\n",
            "\n",
            "           0       0.98      0.99      0.99     29253\n",
            "           1       0.88      0.80      0.84      2616\n",
            "\n",
            "    accuracy                           0.97     31869\n",
            "   macro avg       0.93      0.89      0.91     31869\n",
            "weighted avg       0.97      0.97      0.97     31869\n",
            "\n",
            "#########################################################\n",
            "################# Test Confusion Matrix #################\n",
            "[[12440   138]\n",
            " [  212   869]]\n",
            "################# Train Confusion Matrix ################\n",
            "[[28972   281]\n",
            " [  531  2085]]\n",
            "#########################################################\n"
          ]
        }
      ]
    },
    {
      "cell_type": "code",
      "metadata": {
        "colab": {
          "base_uri": "https://localhost:8080/"
        },
        "id": "mH1Yy_bOe8LD",
        "outputId": "69e27bd8-f6cf-4339-fa75-9429a6659cd6"
      },
      "source": [
        "from sklearn.tree import DecisionTreeClassifier\n",
        "dt = DecisionTreeClassifier()\n",
        "dt.fit(X_train,y_train)\n",
        "dt_train_pred = dt.predict(X_train)\n",
        "dt_pred = dt.predict(X_test)\n",
        "print(\"##################### Test Accuracy #####################\")\n",
        "print(classification_report(y_test, dt_pred))\n",
        "print(\"#########################################################\")\n",
        "print(\"##################### Train Accuracy #####################\")\n",
        "print(classification_report(y_train, dt_train_pred))\n",
        "print(\"#########################################################\")\n",
        "print(\"################# Test Confusion Matrix #################\")\n",
        "print(confusion_matrix(y_test, dt_pred))\n",
        "print(\"################# Train Confusion Matrix ################\")\n",
        "print(confusion_matrix(y_train, dt_train_pred))\n",
        "print(\"#########################################################\")"
      ],
      "execution_count": null,
      "outputs": [
        {
          "output_type": "stream",
          "name": "stdout",
          "text": [
            "##################### Test Accuracy #####################\n",
            "              precision    recall  f1-score   support\n",
            "\n",
            "           0       0.99      0.98      0.99     12578\n",
            "           1       0.81      0.85      0.83      1081\n",
            "\n",
            "    accuracy                           0.97     13659\n",
            "   macro avg       0.90      0.92      0.91     13659\n",
            "weighted avg       0.97      0.97      0.97     13659\n",
            "\n",
            "#########################################################\n",
            "##################### Train Accuracy #####################\n",
            "              precision    recall  f1-score   support\n",
            "\n",
            "           0       1.00      1.00      1.00     29253\n",
            "           1       1.00      1.00      1.00      2616\n",
            "\n",
            "    accuracy                           1.00     31869\n",
            "   macro avg       1.00      1.00      1.00     31869\n",
            "weighted avg       1.00      1.00      1.00     31869\n",
            "\n",
            "#########################################################\n",
            "################# Test Confusion Matrix #################\n",
            "[[12368   210]\n",
            " [  164   917]]\n",
            "################# Train Confusion Matrix ################\n",
            "[[29253     0]\n",
            " [    0  2616]]\n",
            "#########################################################\n"
          ]
        }
      ]
    },
    {
      "cell_type": "code",
      "metadata": {
        "colab": {
          "base_uri": "https://localhost:8080/"
        },
        "id": "1o0V1z-Me8H-",
        "outputId": "ef85c651-fb18-4784-87a2-b07dd5693ed8"
      },
      "source": [
        "from sklearn.ensemble import RandomForestClassifier\n",
        "rfc = RandomForestClassifier()\n",
        "rfc.fit(X_train,y_train)\n",
        "rfc_pred=rfc.predict(X_test)\n",
        "rfc_train_pred=rfc.predict(X_train)\n",
        "print(\"##################### Test Accuracy #####################\")\n",
        "print(classification_report(y_test, rfc_pred))\n",
        "print(\"#########################################################\")\n",
        "print(\"##################### Train Accuracy #####################\")\n",
        "print(classification_report(y_train, rfc_train_pred))\n",
        "print(\"#########################################################\")\n",
        "print(\"################# Test Confusion Matrix #################\")\n",
        "print(confusion_matrix(y_test, rfc_pred))\n",
        "print(\"################# Train Confusion Matrix ################\")\n",
        "print(confusion_matrix(y_train, rfc_train_pred))\n",
        "print(\"#########################################################\")"
      ],
      "execution_count": null,
      "outputs": [
        {
          "output_type": "stream",
          "name": "stdout",
          "text": [
            "##################### Test Accuracy #####################\n",
            "              precision    recall  f1-score   support\n",
            "\n",
            "           0       0.98      1.00      0.99     12578\n",
            "           1       0.99      0.78      0.87      1081\n",
            "\n",
            "    accuracy                           0.98     13659\n",
            "   macro avg       0.98      0.89      0.93     13659\n",
            "weighted avg       0.98      0.98      0.98     13659\n",
            "\n",
            "#########################################################\n",
            "##################### Train Accuracy #####################\n",
            "              precision    recall  f1-score   support\n",
            "\n",
            "           0       1.00      1.00      1.00     29253\n",
            "           1       1.00      1.00      1.00      2616\n",
            "\n",
            "    accuracy                           1.00     31869\n",
            "   macro avg       1.00      1.00      1.00     31869\n",
            "weighted avg       1.00      1.00      1.00     31869\n",
            "\n",
            "#########################################################\n",
            "################# Test Confusion Matrix #################\n",
            "[[12568    10]\n",
            " [  242   839]]\n",
            "################# Train Confusion Matrix ################\n",
            "[[29253     0]\n",
            " [    0  2616]]\n",
            "#########################################################\n"
          ]
        }
      ]
    },
    {
      "cell_type": "code",
      "metadata": {
        "colab": {
          "base_uri": "https://localhost:8080/"
        },
        "id": "nELJa_6ue8Fa",
        "outputId": "9e2ba29f-5880-4495-b554-cafff66c4414"
      },
      "source": [
        "from xgboost import XGBClassifier\n",
        "from sklearn.metrics import classification_report\n",
        "xgb = XGBClassifier()\n",
        "xgb.fit(X_train, y_train)\n",
        "y_pred = xgb.predict(X_test)\n",
        "y_test_pred = xgb.predict(X_train)\n",
        "print(classification_report(y_test,y_pred))\n",
        "print(classification_report(y_train,y_test_pred))"
      ],
      "execution_count": null,
      "outputs": [
        {
          "output_type": "stream",
          "name": "stdout",
          "text": [
            "              precision    recall  f1-score   support\n",
            "\n",
            "           0       0.98      1.00      0.99     12578\n",
            "           1       1.00      0.77      0.87      1081\n",
            "\n",
            "    accuracy                           0.98     13659\n",
            "   macro avg       0.99      0.89      0.93     13659\n",
            "weighted avg       0.98      0.98      0.98     13659\n",
            "\n",
            "              precision    recall  f1-score   support\n",
            "\n",
            "           0       0.98      1.00      0.99     29253\n",
            "           1       1.00      0.76      0.86      2616\n",
            "\n",
            "    accuracy                           0.98     31869\n",
            "   macro avg       0.99      0.88      0.93     31869\n",
            "weighted avg       0.98      0.98      0.98     31869\n",
            "\n"
          ]
        }
      ]
    },
    {
      "cell_type": "markdown",
      "metadata": {
        "id": "tXBYeEfifMr2"
      },
      "source": [
        "### Prediction on Test Data"
      ]
    },
    {
      "cell_type": "code",
      "metadata": {
        "id": "lvFhyA-Ce8Cu"
      },
      "source": [
        "# from catboost import CatBoostClassifier\n",
        "# cat = CatBoostClassifier(iterations=1100)\n",
        "# cat.fit(x,y)\n",
        "# y_pred = cat.predict(z)\n",
        "# final['credit_card_default']=y_pred\n",
        "# final.to_csv(\"Final_Credit.csv\",index=False)\n",
        "\n",
        "# from xgboost import XGBClassifier\n",
        "# xgb = XGBClassifier(learning_rate=0.001)\n",
        "# kfold = KFold(n_splits=10, random_state=7)\n",
        "# xgb.fit(x,y)\n",
        "# y_pred = xgb.predict(z)\n",
        "# final['credit_card_default']=y_pred\n",
        "# final.to_csv(\"Final_Credit.csv\",index=False)\n",
        "\n",
        "# from supervised.automl import AutoML\n",
        "# automl = AutoML()\n",
        "# automl.fit(x, y)\n",
        "# y_pred = automl.predict(z)\n",
        "# final['credit_card_default']=y_pred\n",
        "# final.to_csv(\"Final_Credit.csv\",index=False)\n",
        "\n",
        "# from sklearn.neural_network import MLPClassifier\n",
        "# clf = MLPClassifier()\n",
        "# clf.fit(x, y)\n",
        "# predictions=clf.predict(z)\n",
        "# final['credit_card_default']=predictions\n",
        "# final.to_csv(\"Final_Credit.csv\",index=False)"
      ],
      "execution_count": null,
      "outputs": []
    },
    {
      "cell_type": "code",
      "metadata": {
        "id": "xXr8cq0wfQP-",
        "colab": {
          "base_uri": "https://localhost:8080/"
        },
        "outputId": "23e5f6f6-be1b-48c0-d2c4-5583c6ad8883"
      },
      "source": [
        "len(y_pred)"
      ],
      "execution_count": null,
      "outputs": [
        {
          "output_type": "execute_result",
          "data": {
            "text/plain": [
              "11383"
            ]
          },
          "metadata": {},
          "execution_count": 50
        }
      ]
    },
    {
      "cell_type": "code",
      "metadata": {
        "id": "rVosaaLhe7_p",
        "colab": {
          "base_uri": "https://localhost:8080/",
          "height": 206
        },
        "outputId": "f113a2c5-4705-43c9-f74d-d2b8f246ae13"
      },
      "source": [
        "sample.head()"
      ],
      "execution_count": null,
      "outputs": [
        {
          "output_type": "execute_result",
          "data": {
            "text/html": [
              "<div>\n",
              "<style scoped>\n",
              "    .dataframe tbody tr th:only-of-type {\n",
              "        vertical-align: middle;\n",
              "    }\n",
              "\n",
              "    .dataframe tbody tr th {\n",
              "        vertical-align: top;\n",
              "    }\n",
              "\n",
              "    .dataframe thead th {\n",
              "        text-align: right;\n",
              "    }\n",
              "</style>\n",
              "<table border=\"1\" class=\"dataframe\">\n",
              "  <thead>\n",
              "    <tr style=\"text-align: right;\">\n",
              "      <th></th>\n",
              "      <th>customer_id</th>\n",
              "      <th>credit_card_default</th>\n",
              "    </tr>\n",
              "  </thead>\n",
              "  <tbody>\n",
              "    <tr>\n",
              "      <th>0</th>\n",
              "      <td>CST_115179</td>\n",
              "      <td>1</td>\n",
              "    </tr>\n",
              "    <tr>\n",
              "      <th>1</th>\n",
              "      <td>CST_121920</td>\n",
              "      <td>0</td>\n",
              "    </tr>\n",
              "    <tr>\n",
              "      <th>2</th>\n",
              "      <td>CST_109330</td>\n",
              "      <td>0</td>\n",
              "    </tr>\n",
              "    <tr>\n",
              "      <th>3</th>\n",
              "      <td>CST_128288</td>\n",
              "      <td>0</td>\n",
              "    </tr>\n",
              "    <tr>\n",
              "      <th>4</th>\n",
              "      <td>CST_151355</td>\n",
              "      <td>0</td>\n",
              "    </tr>\n",
              "  </tbody>\n",
              "</table>\n",
              "</div>"
            ],
            "text/plain": [
              "  customer_id  credit_card_default\n",
              "0  CST_115179                    1\n",
              "1  CST_121920                    0\n",
              "2  CST_109330                    0\n",
              "3  CST_128288                    0\n",
              "4  CST_151355                    0"
            ]
          },
          "metadata": {},
          "execution_count": 51
        }
      ]
    },
    {
      "cell_type": "code",
      "metadata": {
        "id": "1GDYldz7d-0m"
      },
      "source": [
        "final['credit_card_default']=y_pred\n",
        "final.to_csv(\"Final_Credit.csv\",index=False)"
      ],
      "execution_count": null,
      "outputs": []
    },
    {
      "cell_type": "code",
      "metadata": {
        "id": "8RWgKLVCppr4"
      },
      "source": [
        "# while True: pass"
      ],
      "execution_count": null,
      "outputs": []
    }
  ]
}